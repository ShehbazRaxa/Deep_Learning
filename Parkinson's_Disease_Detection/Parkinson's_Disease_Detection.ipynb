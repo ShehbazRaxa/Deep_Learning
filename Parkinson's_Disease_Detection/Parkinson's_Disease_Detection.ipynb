{
  "nbformat": 4,
  "nbformat_minor": 0,
  "metadata": {
    "colab": {
      "name": "Parkinson's_Disease_Detection.ipynb",
      "provenance": []
    },
    "kernelspec": {
      "name": "python3",
      "display_name": "Python 3"
    },
    "language_info": {
      "name": "python"
    }
  },
  "cells": [
    {
      "cell_type": "code",
      "metadata": {
        "id": "8azC_zY4JdTF"
      },
      "source": [
        "import pandas as pd"
      ],
      "execution_count": 171,
      "outputs": []
    },
    {
      "cell_type": "code",
      "metadata": {
        "id": "TAqCIEZxL6W-"
      },
      "source": [
        "dataset = pd.read_csv('/content/parkinsons.data')"
      ],
      "execution_count": 172,
      "outputs": []
    },
    {
      "cell_type": "code",
      "metadata": {
        "colab": {
          "base_uri": "https://localhost:8080/"
        },
        "id": "9Mb3QmcFMGKc",
        "outputId": "49d02036-685c-485f-81fe-dd448e5ab123"
      },
      "source": [
        "dataset.info()"
      ],
      "execution_count": 173,
      "outputs": [
        {
          "output_type": "stream",
          "name": "stdout",
          "text": [
            "<class 'pandas.core.frame.DataFrame'>\n",
            "RangeIndex: 195 entries, 0 to 194\n",
            "Data columns (total 24 columns):\n",
            " #   Column            Non-Null Count  Dtype  \n",
            "---  ------            --------------  -----  \n",
            " 0   name              195 non-null    object \n",
            " 1   MDVP:Fo(Hz)       195 non-null    float64\n",
            " 2   MDVP:Fhi(Hz)      195 non-null    float64\n",
            " 3   MDVP:Flo(Hz)      195 non-null    float64\n",
            " 4   MDVP:Jitter(%)    195 non-null    float64\n",
            " 5   MDVP:Jitter(Abs)  195 non-null    float64\n",
            " 6   MDVP:RAP          195 non-null    float64\n",
            " 7   MDVP:PPQ          195 non-null    float64\n",
            " 8   Jitter:DDP        195 non-null    float64\n",
            " 9   MDVP:Shimmer      195 non-null    float64\n",
            " 10  MDVP:Shimmer(dB)  195 non-null    float64\n",
            " 11  Shimmer:APQ3      195 non-null    float64\n",
            " 12  Shimmer:APQ5      195 non-null    float64\n",
            " 13  MDVP:APQ          195 non-null    float64\n",
            " 14  Shimmer:DDA       195 non-null    float64\n",
            " 15  NHR               195 non-null    float64\n",
            " 16  HNR               195 non-null    float64\n",
            " 17  status            195 non-null    int64  \n",
            " 18  RPDE              195 non-null    float64\n",
            " 19  DFA               195 non-null    float64\n",
            " 20  spread1           195 non-null    float64\n",
            " 21  spread2           195 non-null    float64\n",
            " 22  D2                195 non-null    float64\n",
            " 23  PPE               195 non-null    float64\n",
            "dtypes: float64(22), int64(1), object(1)\n",
            "memory usage: 36.7+ KB\n"
          ]
        }
      ]
    },
    {
      "cell_type": "code",
      "metadata": {
        "colab": {
          "base_uri": "https://localhost:8080/",
          "height": 225
        },
        "id": "p_lKnUG5MPM4",
        "outputId": "d452a4cd-732c-4ebe-a4ba-d78eeb8b6730"
      },
      "source": [
        "dataset.head()"
      ],
      "execution_count": 174,
      "outputs": [
        {
          "output_type": "execute_result",
          "data": {
            "text/html": [
              "<div>\n",
              "<style scoped>\n",
              "    .dataframe tbody tr th:only-of-type {\n",
              "        vertical-align: middle;\n",
              "    }\n",
              "\n",
              "    .dataframe tbody tr th {\n",
              "        vertical-align: top;\n",
              "    }\n",
              "\n",
              "    .dataframe thead th {\n",
              "        text-align: right;\n",
              "    }\n",
              "</style>\n",
              "<table border=\"1\" class=\"dataframe\">\n",
              "  <thead>\n",
              "    <tr style=\"text-align: right;\">\n",
              "      <th></th>\n",
              "      <th>name</th>\n",
              "      <th>MDVP:Fo(Hz)</th>\n",
              "      <th>MDVP:Fhi(Hz)</th>\n",
              "      <th>MDVP:Flo(Hz)</th>\n",
              "      <th>MDVP:Jitter(%)</th>\n",
              "      <th>MDVP:Jitter(Abs)</th>\n",
              "      <th>MDVP:RAP</th>\n",
              "      <th>MDVP:PPQ</th>\n",
              "      <th>Jitter:DDP</th>\n",
              "      <th>MDVP:Shimmer</th>\n",
              "      <th>MDVP:Shimmer(dB)</th>\n",
              "      <th>Shimmer:APQ3</th>\n",
              "      <th>Shimmer:APQ5</th>\n",
              "      <th>MDVP:APQ</th>\n",
              "      <th>Shimmer:DDA</th>\n",
              "      <th>NHR</th>\n",
              "      <th>HNR</th>\n",
              "      <th>status</th>\n",
              "      <th>RPDE</th>\n",
              "      <th>DFA</th>\n",
              "      <th>spread1</th>\n",
              "      <th>spread2</th>\n",
              "      <th>D2</th>\n",
              "      <th>PPE</th>\n",
              "    </tr>\n",
              "  </thead>\n",
              "  <tbody>\n",
              "    <tr>\n",
              "      <th>0</th>\n",
              "      <td>phon_R01_S01_1</td>\n",
              "      <td>119.992</td>\n",
              "      <td>157.302</td>\n",
              "      <td>74.997</td>\n",
              "      <td>0.00784</td>\n",
              "      <td>0.00007</td>\n",
              "      <td>0.00370</td>\n",
              "      <td>0.00554</td>\n",
              "      <td>0.01109</td>\n",
              "      <td>0.04374</td>\n",
              "      <td>0.426</td>\n",
              "      <td>0.02182</td>\n",
              "      <td>0.03130</td>\n",
              "      <td>0.02971</td>\n",
              "      <td>0.06545</td>\n",
              "      <td>0.02211</td>\n",
              "      <td>21.033</td>\n",
              "      <td>1</td>\n",
              "      <td>0.414783</td>\n",
              "      <td>0.815285</td>\n",
              "      <td>-4.813031</td>\n",
              "      <td>0.266482</td>\n",
              "      <td>2.301442</td>\n",
              "      <td>0.284654</td>\n",
              "    </tr>\n",
              "    <tr>\n",
              "      <th>1</th>\n",
              "      <td>phon_R01_S01_2</td>\n",
              "      <td>122.400</td>\n",
              "      <td>148.650</td>\n",
              "      <td>113.819</td>\n",
              "      <td>0.00968</td>\n",
              "      <td>0.00008</td>\n",
              "      <td>0.00465</td>\n",
              "      <td>0.00696</td>\n",
              "      <td>0.01394</td>\n",
              "      <td>0.06134</td>\n",
              "      <td>0.626</td>\n",
              "      <td>0.03134</td>\n",
              "      <td>0.04518</td>\n",
              "      <td>0.04368</td>\n",
              "      <td>0.09403</td>\n",
              "      <td>0.01929</td>\n",
              "      <td>19.085</td>\n",
              "      <td>1</td>\n",
              "      <td>0.458359</td>\n",
              "      <td>0.819521</td>\n",
              "      <td>-4.075192</td>\n",
              "      <td>0.335590</td>\n",
              "      <td>2.486855</td>\n",
              "      <td>0.368674</td>\n",
              "    </tr>\n",
              "    <tr>\n",
              "      <th>2</th>\n",
              "      <td>phon_R01_S01_3</td>\n",
              "      <td>116.682</td>\n",
              "      <td>131.111</td>\n",
              "      <td>111.555</td>\n",
              "      <td>0.01050</td>\n",
              "      <td>0.00009</td>\n",
              "      <td>0.00544</td>\n",
              "      <td>0.00781</td>\n",
              "      <td>0.01633</td>\n",
              "      <td>0.05233</td>\n",
              "      <td>0.482</td>\n",
              "      <td>0.02757</td>\n",
              "      <td>0.03858</td>\n",
              "      <td>0.03590</td>\n",
              "      <td>0.08270</td>\n",
              "      <td>0.01309</td>\n",
              "      <td>20.651</td>\n",
              "      <td>1</td>\n",
              "      <td>0.429895</td>\n",
              "      <td>0.825288</td>\n",
              "      <td>-4.443179</td>\n",
              "      <td>0.311173</td>\n",
              "      <td>2.342259</td>\n",
              "      <td>0.332634</td>\n",
              "    </tr>\n",
              "    <tr>\n",
              "      <th>3</th>\n",
              "      <td>phon_R01_S01_4</td>\n",
              "      <td>116.676</td>\n",
              "      <td>137.871</td>\n",
              "      <td>111.366</td>\n",
              "      <td>0.00997</td>\n",
              "      <td>0.00009</td>\n",
              "      <td>0.00502</td>\n",
              "      <td>0.00698</td>\n",
              "      <td>0.01505</td>\n",
              "      <td>0.05492</td>\n",
              "      <td>0.517</td>\n",
              "      <td>0.02924</td>\n",
              "      <td>0.04005</td>\n",
              "      <td>0.03772</td>\n",
              "      <td>0.08771</td>\n",
              "      <td>0.01353</td>\n",
              "      <td>20.644</td>\n",
              "      <td>1</td>\n",
              "      <td>0.434969</td>\n",
              "      <td>0.819235</td>\n",
              "      <td>-4.117501</td>\n",
              "      <td>0.334147</td>\n",
              "      <td>2.405554</td>\n",
              "      <td>0.368975</td>\n",
              "    </tr>\n",
              "    <tr>\n",
              "      <th>4</th>\n",
              "      <td>phon_R01_S01_5</td>\n",
              "      <td>116.014</td>\n",
              "      <td>141.781</td>\n",
              "      <td>110.655</td>\n",
              "      <td>0.01284</td>\n",
              "      <td>0.00011</td>\n",
              "      <td>0.00655</td>\n",
              "      <td>0.00908</td>\n",
              "      <td>0.01966</td>\n",
              "      <td>0.06425</td>\n",
              "      <td>0.584</td>\n",
              "      <td>0.03490</td>\n",
              "      <td>0.04825</td>\n",
              "      <td>0.04465</td>\n",
              "      <td>0.10470</td>\n",
              "      <td>0.01767</td>\n",
              "      <td>19.649</td>\n",
              "      <td>1</td>\n",
              "      <td>0.417356</td>\n",
              "      <td>0.823484</td>\n",
              "      <td>-3.747787</td>\n",
              "      <td>0.234513</td>\n",
              "      <td>2.332180</td>\n",
              "      <td>0.410335</td>\n",
              "    </tr>\n",
              "  </tbody>\n",
              "</table>\n",
              "</div>"
            ],
            "text/plain": [
              "             name  MDVP:Fo(Hz)  MDVP:Fhi(Hz)  ...   spread2        D2       PPE\n",
              "0  phon_R01_S01_1      119.992       157.302  ...  0.266482  2.301442  0.284654\n",
              "1  phon_R01_S01_2      122.400       148.650  ...  0.335590  2.486855  0.368674\n",
              "2  phon_R01_S01_3      116.682       131.111  ...  0.311173  2.342259  0.332634\n",
              "3  phon_R01_S01_4      116.676       137.871  ...  0.334147  2.405554  0.368975\n",
              "4  phon_R01_S01_5      116.014       141.781  ...  0.234513  2.332180  0.410335\n",
              "\n",
              "[5 rows x 24 columns]"
            ]
          },
          "metadata": {},
          "execution_count": 174
        }
      ]
    },
    {
      "cell_type": "code",
      "metadata": {
        "id": "wb_oshjtMXko"
      },
      "source": [
        "dataset.drop('name',axis=1,inplace=True)"
      ],
      "execution_count": 175,
      "outputs": []
    },
    {
      "cell_type": "code",
      "metadata": {
        "colab": {
          "base_uri": "https://localhost:8080/",
          "height": 225
        },
        "id": "Fs3LI4aeMlzw",
        "outputId": "e1ef66fb-0c31-4cd0-e819-dd2df3ac0154"
      },
      "source": [
        "dataset.head()"
      ],
      "execution_count": 176,
      "outputs": [
        {
          "output_type": "execute_result",
          "data": {
            "text/html": [
              "<div>\n",
              "<style scoped>\n",
              "    .dataframe tbody tr th:only-of-type {\n",
              "        vertical-align: middle;\n",
              "    }\n",
              "\n",
              "    .dataframe tbody tr th {\n",
              "        vertical-align: top;\n",
              "    }\n",
              "\n",
              "    .dataframe thead th {\n",
              "        text-align: right;\n",
              "    }\n",
              "</style>\n",
              "<table border=\"1\" class=\"dataframe\">\n",
              "  <thead>\n",
              "    <tr style=\"text-align: right;\">\n",
              "      <th></th>\n",
              "      <th>MDVP:Fo(Hz)</th>\n",
              "      <th>MDVP:Fhi(Hz)</th>\n",
              "      <th>MDVP:Flo(Hz)</th>\n",
              "      <th>MDVP:Jitter(%)</th>\n",
              "      <th>MDVP:Jitter(Abs)</th>\n",
              "      <th>MDVP:RAP</th>\n",
              "      <th>MDVP:PPQ</th>\n",
              "      <th>Jitter:DDP</th>\n",
              "      <th>MDVP:Shimmer</th>\n",
              "      <th>MDVP:Shimmer(dB)</th>\n",
              "      <th>Shimmer:APQ3</th>\n",
              "      <th>Shimmer:APQ5</th>\n",
              "      <th>MDVP:APQ</th>\n",
              "      <th>Shimmer:DDA</th>\n",
              "      <th>NHR</th>\n",
              "      <th>HNR</th>\n",
              "      <th>status</th>\n",
              "      <th>RPDE</th>\n",
              "      <th>DFA</th>\n",
              "      <th>spread1</th>\n",
              "      <th>spread2</th>\n",
              "      <th>D2</th>\n",
              "      <th>PPE</th>\n",
              "    </tr>\n",
              "  </thead>\n",
              "  <tbody>\n",
              "    <tr>\n",
              "      <th>0</th>\n",
              "      <td>119.992</td>\n",
              "      <td>157.302</td>\n",
              "      <td>74.997</td>\n",
              "      <td>0.00784</td>\n",
              "      <td>0.00007</td>\n",
              "      <td>0.00370</td>\n",
              "      <td>0.00554</td>\n",
              "      <td>0.01109</td>\n",
              "      <td>0.04374</td>\n",
              "      <td>0.426</td>\n",
              "      <td>0.02182</td>\n",
              "      <td>0.03130</td>\n",
              "      <td>0.02971</td>\n",
              "      <td>0.06545</td>\n",
              "      <td>0.02211</td>\n",
              "      <td>21.033</td>\n",
              "      <td>1</td>\n",
              "      <td>0.414783</td>\n",
              "      <td>0.815285</td>\n",
              "      <td>-4.813031</td>\n",
              "      <td>0.266482</td>\n",
              "      <td>2.301442</td>\n",
              "      <td>0.284654</td>\n",
              "    </tr>\n",
              "    <tr>\n",
              "      <th>1</th>\n",
              "      <td>122.400</td>\n",
              "      <td>148.650</td>\n",
              "      <td>113.819</td>\n",
              "      <td>0.00968</td>\n",
              "      <td>0.00008</td>\n",
              "      <td>0.00465</td>\n",
              "      <td>0.00696</td>\n",
              "      <td>0.01394</td>\n",
              "      <td>0.06134</td>\n",
              "      <td>0.626</td>\n",
              "      <td>0.03134</td>\n",
              "      <td>0.04518</td>\n",
              "      <td>0.04368</td>\n",
              "      <td>0.09403</td>\n",
              "      <td>0.01929</td>\n",
              "      <td>19.085</td>\n",
              "      <td>1</td>\n",
              "      <td>0.458359</td>\n",
              "      <td>0.819521</td>\n",
              "      <td>-4.075192</td>\n",
              "      <td>0.335590</td>\n",
              "      <td>2.486855</td>\n",
              "      <td>0.368674</td>\n",
              "    </tr>\n",
              "    <tr>\n",
              "      <th>2</th>\n",
              "      <td>116.682</td>\n",
              "      <td>131.111</td>\n",
              "      <td>111.555</td>\n",
              "      <td>0.01050</td>\n",
              "      <td>0.00009</td>\n",
              "      <td>0.00544</td>\n",
              "      <td>0.00781</td>\n",
              "      <td>0.01633</td>\n",
              "      <td>0.05233</td>\n",
              "      <td>0.482</td>\n",
              "      <td>0.02757</td>\n",
              "      <td>0.03858</td>\n",
              "      <td>0.03590</td>\n",
              "      <td>0.08270</td>\n",
              "      <td>0.01309</td>\n",
              "      <td>20.651</td>\n",
              "      <td>1</td>\n",
              "      <td>0.429895</td>\n",
              "      <td>0.825288</td>\n",
              "      <td>-4.443179</td>\n",
              "      <td>0.311173</td>\n",
              "      <td>2.342259</td>\n",
              "      <td>0.332634</td>\n",
              "    </tr>\n",
              "    <tr>\n",
              "      <th>3</th>\n",
              "      <td>116.676</td>\n",
              "      <td>137.871</td>\n",
              "      <td>111.366</td>\n",
              "      <td>0.00997</td>\n",
              "      <td>0.00009</td>\n",
              "      <td>0.00502</td>\n",
              "      <td>0.00698</td>\n",
              "      <td>0.01505</td>\n",
              "      <td>0.05492</td>\n",
              "      <td>0.517</td>\n",
              "      <td>0.02924</td>\n",
              "      <td>0.04005</td>\n",
              "      <td>0.03772</td>\n",
              "      <td>0.08771</td>\n",
              "      <td>0.01353</td>\n",
              "      <td>20.644</td>\n",
              "      <td>1</td>\n",
              "      <td>0.434969</td>\n",
              "      <td>0.819235</td>\n",
              "      <td>-4.117501</td>\n",
              "      <td>0.334147</td>\n",
              "      <td>2.405554</td>\n",
              "      <td>0.368975</td>\n",
              "    </tr>\n",
              "    <tr>\n",
              "      <th>4</th>\n",
              "      <td>116.014</td>\n",
              "      <td>141.781</td>\n",
              "      <td>110.655</td>\n",
              "      <td>0.01284</td>\n",
              "      <td>0.00011</td>\n",
              "      <td>0.00655</td>\n",
              "      <td>0.00908</td>\n",
              "      <td>0.01966</td>\n",
              "      <td>0.06425</td>\n",
              "      <td>0.584</td>\n",
              "      <td>0.03490</td>\n",
              "      <td>0.04825</td>\n",
              "      <td>0.04465</td>\n",
              "      <td>0.10470</td>\n",
              "      <td>0.01767</td>\n",
              "      <td>19.649</td>\n",
              "      <td>1</td>\n",
              "      <td>0.417356</td>\n",
              "      <td>0.823484</td>\n",
              "      <td>-3.747787</td>\n",
              "      <td>0.234513</td>\n",
              "      <td>2.332180</td>\n",
              "      <td>0.410335</td>\n",
              "    </tr>\n",
              "  </tbody>\n",
              "</table>\n",
              "</div>"
            ],
            "text/plain": [
              "   MDVP:Fo(Hz)  MDVP:Fhi(Hz)  MDVP:Flo(Hz)  ...   spread2        D2       PPE\n",
              "0      119.992       157.302        74.997  ...  0.266482  2.301442  0.284654\n",
              "1      122.400       148.650       113.819  ...  0.335590  2.486855  0.368674\n",
              "2      116.682       131.111       111.555  ...  0.311173  2.342259  0.332634\n",
              "3      116.676       137.871       111.366  ...  0.334147  2.405554  0.368975\n",
              "4      116.014       141.781       110.655  ...  0.234513  2.332180  0.410335\n",
              "\n",
              "[5 rows x 23 columns]"
            ]
          },
          "metadata": {},
          "execution_count": 176
        }
      ]
    },
    {
      "cell_type": "code",
      "metadata": {
        "colab": {
          "base_uri": "https://localhost:8080/"
        },
        "id": "0bYpW0PzMnuX",
        "outputId": "2e6cf1f7-9e1e-4d5d-b1a9-f0f6046d98d9"
      },
      "source": [
        "dataset.status.value_counts()"
      ],
      "execution_count": 177,
      "outputs": [
        {
          "output_type": "execute_result",
          "data": {
            "text/plain": [
              "1    147\n",
              "0     48\n",
              "Name: status, dtype: int64"
            ]
          },
          "metadata": {},
          "execution_count": 177
        }
      ]
    },
    {
      "cell_type": "code",
      "metadata": {
        "id": "EqgayGR-Mzg_"
      },
      "source": [
        "x = dataset.drop('status',axis=1)\n",
        "y = dataset['status']"
      ],
      "execution_count": 178,
      "outputs": []
    },
    {
      "cell_type": "code",
      "metadata": {
        "colab": {
          "base_uri": "https://localhost:8080/"
        },
        "id": "lP9jaW9PNQCe",
        "outputId": "7675987c-9868-4cbd-a733-e7dec23ceead"
      },
      "source": [
        "y.value_counts()"
      ],
      "execution_count": 179,
      "outputs": [
        {
          "output_type": "execute_result",
          "data": {
            "text/plain": [
              "1    147\n",
              "0     48\n",
              "Name: status, dtype: int64"
            ]
          },
          "metadata": {},
          "execution_count": 179
        }
      ]
    },
    {
      "cell_type": "code",
      "metadata": {
        "colab": {
          "base_uri": "https://localhost:8080/"
        },
        "id": "b-attp5wNRFz",
        "outputId": "4fbaa789-695d-4b17-d6f7-64c3e69d8a9a"
      },
      "source": [
        "x.info()"
      ],
      "execution_count": 180,
      "outputs": [
        {
          "output_type": "stream",
          "name": "stdout",
          "text": [
            "<class 'pandas.core.frame.DataFrame'>\n",
            "RangeIndex: 195 entries, 0 to 194\n",
            "Data columns (total 22 columns):\n",
            " #   Column            Non-Null Count  Dtype  \n",
            "---  ------            --------------  -----  \n",
            " 0   MDVP:Fo(Hz)       195 non-null    float64\n",
            " 1   MDVP:Fhi(Hz)      195 non-null    float64\n",
            " 2   MDVP:Flo(Hz)      195 non-null    float64\n",
            " 3   MDVP:Jitter(%)    195 non-null    float64\n",
            " 4   MDVP:Jitter(Abs)  195 non-null    float64\n",
            " 5   MDVP:RAP          195 non-null    float64\n",
            " 6   MDVP:PPQ          195 non-null    float64\n",
            " 7   Jitter:DDP        195 non-null    float64\n",
            " 8   MDVP:Shimmer      195 non-null    float64\n",
            " 9   MDVP:Shimmer(dB)  195 non-null    float64\n",
            " 10  Shimmer:APQ3      195 non-null    float64\n",
            " 11  Shimmer:APQ5      195 non-null    float64\n",
            " 12  MDVP:APQ          195 non-null    float64\n",
            " 13  Shimmer:DDA       195 non-null    float64\n",
            " 14  NHR               195 non-null    float64\n",
            " 15  HNR               195 non-null    float64\n",
            " 16  RPDE              195 non-null    float64\n",
            " 17  DFA               195 non-null    float64\n",
            " 18  spread1           195 non-null    float64\n",
            " 19  spread2           195 non-null    float64\n",
            " 20  D2                195 non-null    float64\n",
            " 21  PPE               195 non-null    float64\n",
            "dtypes: float64(22)\n",
            "memory usage: 33.6 KB\n"
          ]
        }
      ]
    },
    {
      "cell_type": "code",
      "metadata": {
        "id": "xZtB5aXUNbt1"
      },
      "source": [
        "from sklearn.model_selection import train_test_split\n",
        "from sklearn import preprocessing\n",
        "train_data,test_data,train_label,test_label = train_test_split(x,y,test_size=0.2,stratify=y)"
      ],
      "execution_count": 181,
      "outputs": []
    },
    {
      "cell_type": "code",
      "metadata": {
        "id": "kUjJXP21NmHq"
      },
      "source": [
        "train_data = preprocessing.normalize(train_data)\n",
        "test_data = preprocessing.normalize(test_data)"
      ],
      "execution_count": 182,
      "outputs": []
    },
    {
      "cell_type": "code",
      "metadata": {
        "id": "Uem25xBcOa7a"
      },
      "source": [
        "from tensorflow.keras.models import Model\n",
        "from tensorflow.keras.layers import *\n",
        "from tensorflow.keras import Input"
      ],
      "execution_count": 183,
      "outputs": []
    },
    {
      "cell_type": "code",
      "metadata": {
        "id": "pJzC1a7POuvU"
      },
      "source": [
        "input_tensor = Input(train_data.shape[1],)"
      ],
      "execution_count": 184,
      "outputs": []
    },
    {
      "cell_type": "code",
      "metadata": {
        "id": "bRa_fSeuQar9"
      },
      "source": [
        "x1 = Dense(32, activation='relu')(input_tensor)\n",
        "x2 = Dense(8, activation='relu')(x1)\n",
        "output_tensor = Dense(1, activation='sigmoid')(x2)"
      ],
      "execution_count": 185,
      "outputs": []
    },
    {
      "cell_type": "code",
      "metadata": {
        "id": "phY5s9ekSZua"
      },
      "source": [
        "#tensorflow.keras.optimizer import Adamax"
      ],
      "execution_count": 186,
      "outputs": []
    },
    {
      "cell_type": "code",
      "metadata": {
        "id": "DpDXISvsRij5"
      },
      "source": [
        "model = Model(input_tensor,output_tensor)\n",
        "model.compile(optimizer='adam',loss='binary_crossentropy',\n",
        "metrics=['acc'])"
      ],
      "execution_count": 187,
      "outputs": []
    },
    {
      "cell_type": "code",
      "metadata": {
        "colab": {
          "base_uri": "https://localhost:8080/"
        },
        "id": "gpaUqcV6SGjn",
        "outputId": "cfb5f98c-4ba1-4b18-dad9-faf9ec5a05b2"
      },
      "source": [
        "model.fit(train_data,train_label, epochs=80)"
      ],
      "execution_count": 188,
      "outputs": [
        {
          "output_type": "stream",
          "name": "stdout",
          "text": [
            "Epoch 1/80\n",
            "5/5 [==============================] - 0s 4ms/step - loss: 0.6681 - acc: 0.7564\n",
            "Epoch 2/80\n",
            "5/5 [==============================] - 0s 3ms/step - loss: 0.6582 - acc: 0.7564\n",
            "Epoch 3/80\n",
            "5/5 [==============================] - 0s 3ms/step - loss: 0.6486 - acc: 0.7564\n",
            "Epoch 4/80\n",
            "5/5 [==============================] - 0s 4ms/step - loss: 0.6396 - acc: 0.7564\n",
            "Epoch 5/80\n",
            "5/5 [==============================] - 0s 4ms/step - loss: 0.6299 - acc: 0.7564\n",
            "Epoch 6/80\n",
            "5/5 [==============================] - 0s 6ms/step - loss: 0.6214 - acc: 0.7564\n",
            "Epoch 7/80\n",
            "5/5 [==============================] - 0s 4ms/step - loss: 0.6111 - acc: 0.7564\n",
            "Epoch 8/80\n",
            "5/5 [==============================] - 0s 5ms/step - loss: 0.6024 - acc: 0.7564\n",
            "Epoch 9/80\n",
            "5/5 [==============================] - 0s 7ms/step - loss: 0.5953 - acc: 0.7564\n",
            "Epoch 10/80\n",
            "5/5 [==============================] - 0s 5ms/step - loss: 0.5871 - acc: 0.7564\n",
            "Epoch 11/80\n",
            "5/5 [==============================] - 0s 7ms/step - loss: 0.5793 - acc: 0.7564\n",
            "Epoch 12/80\n",
            "5/5 [==============================] - 0s 3ms/step - loss: 0.5736 - acc: 0.7564\n",
            "Epoch 13/80\n",
            "5/5 [==============================] - 0s 4ms/step - loss: 0.5687 - acc: 0.7564\n",
            "Epoch 14/80\n",
            "5/5 [==============================] - 0s 3ms/step - loss: 0.5641 - acc: 0.7564\n",
            "Epoch 15/80\n",
            "5/5 [==============================] - 0s 3ms/step - loss: 0.5601 - acc: 0.7564\n",
            "Epoch 16/80\n",
            "5/5 [==============================] - 0s 3ms/step - loss: 0.5572 - acc: 0.7564\n",
            "Epoch 17/80\n",
            "5/5 [==============================] - 0s 3ms/step - loss: 0.5553 - acc: 0.7564\n",
            "Epoch 18/80\n",
            "5/5 [==============================] - 0s 3ms/step - loss: 0.5539 - acc: 0.7564\n",
            "Epoch 19/80\n",
            "5/5 [==============================] - 0s 3ms/step - loss: 0.5536 - acc: 0.7564\n",
            "Epoch 20/80\n",
            "5/5 [==============================] - 0s 3ms/step - loss: 0.5526 - acc: 0.7564\n",
            "Epoch 21/80\n",
            "5/5 [==============================] - 0s 4ms/step - loss: 0.5521 - acc: 0.7564\n",
            "Epoch 22/80\n",
            "5/5 [==============================] - 0s 3ms/step - loss: 0.5522 - acc: 0.7564\n",
            "Epoch 23/80\n",
            "5/5 [==============================] - 0s 4ms/step - loss: 0.5518 - acc: 0.7564\n",
            "Epoch 24/80\n",
            "5/5 [==============================] - 0s 3ms/step - loss: 0.5517 - acc: 0.7564\n",
            "Epoch 25/80\n",
            "5/5 [==============================] - 0s 4ms/step - loss: 0.5518 - acc: 0.7564\n",
            "Epoch 26/80\n",
            "5/5 [==============================] - 0s 4ms/step - loss: 0.5515 - acc: 0.7564\n",
            "Epoch 27/80\n",
            "5/5 [==============================] - 0s 5ms/step - loss: 0.5514 - acc: 0.7564\n",
            "Epoch 28/80\n",
            "5/5 [==============================] - 0s 3ms/step - loss: 0.5513 - acc: 0.7564\n",
            "Epoch 29/80\n",
            "5/5 [==============================] - 0s 3ms/step - loss: 0.5511 - acc: 0.7564\n",
            "Epoch 30/80\n",
            "5/5 [==============================] - 0s 4ms/step - loss: 0.5511 - acc: 0.7564\n",
            "Epoch 31/80\n",
            "5/5 [==============================] - 0s 3ms/step - loss: 0.5509 - acc: 0.7564\n",
            "Epoch 32/80\n",
            "5/5 [==============================] - 0s 4ms/step - loss: 0.5509 - acc: 0.7564\n",
            "Epoch 33/80\n",
            "5/5 [==============================] - 0s 3ms/step - loss: 0.5507 - acc: 0.7564\n",
            "Epoch 34/80\n",
            "5/5 [==============================] - 0s 4ms/step - loss: 0.5506 - acc: 0.7564\n",
            "Epoch 35/80\n",
            "5/5 [==============================] - 0s 4ms/step - loss: 0.5505 - acc: 0.7564\n",
            "Epoch 36/80\n",
            "5/5 [==============================] - 0s 3ms/step - loss: 0.5505 - acc: 0.7564\n",
            "Epoch 37/80\n",
            "5/5 [==============================] - 0s 3ms/step - loss: 0.5507 - acc: 0.7564\n",
            "Epoch 38/80\n",
            "5/5 [==============================] - 0s 4ms/step - loss: 0.5501 - acc: 0.7564\n",
            "Epoch 39/80\n",
            "5/5 [==============================] - 0s 4ms/step - loss: 0.5500 - acc: 0.7564\n",
            "Epoch 40/80\n",
            "5/5 [==============================] - 0s 4ms/step - loss: 0.5500 - acc: 0.7564\n",
            "Epoch 41/80\n",
            "5/5 [==============================] - 0s 3ms/step - loss: 0.5497 - acc: 0.7564\n",
            "Epoch 42/80\n",
            "5/5 [==============================] - 0s 3ms/step - loss: 0.5498 - acc: 0.7564\n",
            "Epoch 43/80\n",
            "5/5 [==============================] - 0s 3ms/step - loss: 0.5497 - acc: 0.7564\n",
            "Epoch 44/80\n",
            "5/5 [==============================] - 0s 3ms/step - loss: 0.5495 - acc: 0.7564\n",
            "Epoch 45/80\n",
            "5/5 [==============================] - 0s 3ms/step - loss: 0.5492 - acc: 0.7564\n",
            "Epoch 46/80\n",
            "5/5 [==============================] - 0s 3ms/step - loss: 0.5494 - acc: 0.7564\n",
            "Epoch 47/80\n",
            "5/5 [==============================] - 0s 3ms/step - loss: 0.5491 - acc: 0.7564\n",
            "Epoch 48/80\n",
            "5/5 [==============================] - 0s 4ms/step - loss: 0.5489 - acc: 0.7564\n",
            "Epoch 49/80\n",
            "5/5 [==============================] - 0s 3ms/step - loss: 0.5489 - acc: 0.7564\n",
            "Epoch 50/80\n",
            "5/5 [==============================] - 0s 4ms/step - loss: 0.5486 - acc: 0.7564\n",
            "Epoch 51/80\n",
            "5/5 [==============================] - 0s 5ms/step - loss: 0.5487 - acc: 0.7564\n",
            "Epoch 52/80\n",
            "5/5 [==============================] - 0s 3ms/step - loss: 0.5484 - acc: 0.7564\n",
            "Epoch 53/80\n",
            "5/5 [==============================] - 0s 4ms/step - loss: 0.5485 - acc: 0.7564\n",
            "Epoch 54/80\n",
            "5/5 [==============================] - 0s 4ms/step - loss: 0.5483 - acc: 0.7564\n",
            "Epoch 55/80\n",
            "5/5 [==============================] - 0s 7ms/step - loss: 0.5484 - acc: 0.7564\n",
            "Epoch 56/80\n",
            "5/5 [==============================] - 0s 4ms/step - loss: 0.5480 - acc: 0.7564\n",
            "Epoch 57/80\n",
            "5/5 [==============================] - 0s 4ms/step - loss: 0.5479 - acc: 0.7564\n",
            "Epoch 58/80\n",
            "5/5 [==============================] - 0s 5ms/step - loss: 0.5478 - acc: 0.7564\n",
            "Epoch 59/80\n",
            "5/5 [==============================] - 0s 5ms/step - loss: 0.5475 - acc: 0.7564\n",
            "Epoch 60/80\n",
            "5/5 [==============================] - 0s 4ms/step - loss: 0.5478 - acc: 0.7564\n",
            "Epoch 61/80\n",
            "5/5 [==============================] - 0s 5ms/step - loss: 0.5472 - acc: 0.7564\n",
            "Epoch 62/80\n",
            "5/5 [==============================] - 0s 3ms/step - loss: 0.5471 - acc: 0.7564\n",
            "Epoch 63/80\n",
            "5/5 [==============================] - 0s 4ms/step - loss: 0.5470 - acc: 0.7564\n",
            "Epoch 64/80\n",
            "5/5 [==============================] - 0s 4ms/step - loss: 0.5469 - acc: 0.7564\n",
            "Epoch 65/80\n",
            "5/5 [==============================] - 0s 3ms/step - loss: 0.5467 - acc: 0.7564\n",
            "Epoch 66/80\n",
            "5/5 [==============================] - 0s 3ms/step - loss: 0.5467 - acc: 0.7564\n",
            "Epoch 67/80\n",
            "5/5 [==============================] - 0s 4ms/step - loss: 0.5466 - acc: 0.7564\n",
            "Epoch 68/80\n",
            "5/5 [==============================] - 0s 4ms/step - loss: 0.5471 - acc: 0.7564\n",
            "Epoch 69/80\n",
            "5/5 [==============================] - 0s 4ms/step - loss: 0.5466 - acc: 0.7564\n",
            "Epoch 70/80\n",
            "5/5 [==============================] - 0s 4ms/step - loss: 0.5460 - acc: 0.7564\n",
            "Epoch 71/80\n",
            "5/5 [==============================] - 0s 3ms/step - loss: 0.5460 - acc: 0.7564\n",
            "Epoch 72/80\n",
            "5/5 [==============================] - 0s 4ms/step - loss: 0.5459 - acc: 0.7564\n",
            "Epoch 73/80\n",
            "5/5 [==============================] - 0s 4ms/step - loss: 0.5457 - acc: 0.7564\n",
            "Epoch 74/80\n",
            "5/5 [==============================] - 0s 4ms/step - loss: 0.5458 - acc: 0.7564\n",
            "Epoch 75/80\n",
            "5/5 [==============================] - 0s 4ms/step - loss: 0.5454 - acc: 0.7564\n",
            "Epoch 76/80\n",
            "5/5 [==============================] - 0s 4ms/step - loss: 0.5452 - acc: 0.7564\n",
            "Epoch 77/80\n",
            "5/5 [==============================] - 0s 4ms/step - loss: 0.5453 - acc: 0.7564\n",
            "Epoch 78/80\n",
            "5/5 [==============================] - 0s 4ms/step - loss: 0.5449 - acc: 0.7564\n",
            "Epoch 79/80\n",
            "5/5 [==============================] - 0s 3ms/step - loss: 0.5448 - acc: 0.7564\n",
            "Epoch 80/80\n",
            "5/5 [==============================] - 0s 3ms/step - loss: 0.5450 - acc: 0.7564\n"
          ]
        },
        {
          "output_type": "execute_result",
          "data": {
            "text/plain": [
              "<keras.callbacks.History at 0x7f470ecf8950>"
            ]
          },
          "metadata": {},
          "execution_count": 188
        }
      ]
    },
    {
      "cell_type": "code",
      "metadata": {
        "colab": {
          "base_uri": "https://localhost:8080/"
        },
        "id": "Dywlmt9VSNu0",
        "outputId": "bf191b17-5603-4f42-e7a9-c47f8bd609a8"
      },
      "source": [
        "model.evaluate(test_data,test_label)"
      ],
      "execution_count": 190,
      "outputs": [
        {
          "output_type": "stream",
          "name": "stdout",
          "text": [
            "2/2 [==============================] - 0s 5ms/step - loss: 0.5699 - acc: 0.7436\n"
          ]
        },
        {
          "output_type": "execute_result",
          "data": {
            "text/plain": [
              "[0.5698955655097961, 0.7435897588729858]"
            ]
          },
          "metadata": {},
          "execution_count": 190
        }
      ]
    },
    {
      "cell_type": "code",
      "metadata": {
        "id": "OHSgezNMWT_v"
      },
      "source": [
        "model.save(\"Parkinson's_Disease_Detection.h5\")"
      ],
      "execution_count": 191,
      "outputs": []
    },
    {
      "cell_type": "code",
      "metadata": {
        "id": "ZjpzbfXQXsI4"
      },
      "source": [
        ""
      ],
      "execution_count": null,
      "outputs": []
    }
  ]
}