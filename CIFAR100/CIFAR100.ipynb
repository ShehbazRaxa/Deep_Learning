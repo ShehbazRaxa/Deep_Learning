{
  "nbformat": 4,
  "nbformat_minor": 0,
  "metadata": {
    "colab": {
      "name": "CIFAR100.ipynb",
      "provenance": []
    },
    "kernelspec": {
      "name": "python3",
      "display_name": "Python 3"
    },
    "language_info": {
      "name": "python"
    },
    "accelerator": "GPU"
  },
  "cells": [
    {
      "cell_type": "code",
      "metadata": {
        "id": "JN2-AOGOQHAV"
      },
      "source": [
        "from keras.datasets import cifar100\n",
        "(train_images, train_labels), (test_images, test_labels) = cifar100.load_data()"
      ],
      "execution_count": 21,
      "outputs": []
    },
    {
      "cell_type": "code",
      "metadata": {
        "colab": {
          "base_uri": "https://localhost:8080/"
        },
        "id": "dT4j-HjWQQKC",
        "outputId": "79858f01-17e7-4842-ca65-96948249a782"
      },
      "source": [
        "train_images.shape"
      ],
      "execution_count": 22,
      "outputs": [
        {
          "output_type": "execute_result",
          "data": {
            "text/plain": [
              "(50000, 32, 32, 3)"
            ]
          },
          "metadata": {},
          "execution_count": 22
        }
      ]
    },
    {
      "cell_type": "code",
      "metadata": {
        "colab": {
          "base_uri": "https://localhost:8080/"
        },
        "id": "bmaeIO0dRswa",
        "outputId": "55daed63-808f-42f4-f5bb-83bdf343ac77"
      },
      "source": [
        "test_images.shape"
      ],
      "execution_count": 23,
      "outputs": [
        {
          "output_type": "execute_result",
          "data": {
            "text/plain": [
              "(10000, 32, 32, 3)"
            ]
          },
          "metadata": {},
          "execution_count": 23
        }
      ]
    },
    {
      "cell_type": "code",
      "metadata": {
        "colab": {
          "base_uri": "https://localhost:8080/"
        },
        "id": "PhiV5vNEQY9s",
        "outputId": "afdee0b6-284a-4c72-f5c2-f76425f1078e"
      },
      "source": [
        "len(test_images)"
      ],
      "execution_count": 24,
      "outputs": [
        {
          "output_type": "execute_result",
          "data": {
            "text/plain": [
              "10000"
            ]
          },
          "metadata": {},
          "execution_count": 24
        }
      ]
    },
    {
      "cell_type": "code",
      "metadata": {
        "colab": {
          "base_uri": "https://localhost:8080/"
        },
        "id": "J6xiS2NlRw6t",
        "outputId": "961876ac-df21-4565-d873-f22dc90e176a"
      },
      "source": [
        "len(train_images)"
      ],
      "execution_count": 25,
      "outputs": [
        {
          "output_type": "execute_result",
          "data": {
            "text/plain": [
              "50000"
            ]
          },
          "metadata": {},
          "execution_count": 25
        }
      ]
    },
    {
      "cell_type": "code",
      "metadata": {
        "id": "8oAGac5kQnkf"
      },
      "source": [
        "from tensorflow.keras import models\n",
        "from tensorflow.keras.layers import *\n",
        "model = models.Sequential()"
      ],
      "execution_count": 26,
      "outputs": []
    },
    {
      "cell_type": "code",
      "metadata": {
        "id": "rgxdrPSgQ2jQ"
      },
      "source": [
        "model.add(Conv2D(32, (3, 3), activation='relu', input_shape=(32, 32, 3)))\n",
        "model.add(MaxPooling2D((2, 2)))\n",
        "model.add(Conv2D(64, (3, 3), activation='relu'))\n",
        "\n",
        "model.add(Conv2D(64, (3, 3), activation='relu'))"
      ],
      "execution_count": 27,
      "outputs": []
    },
    {
      "cell_type": "code",
      "metadata": {
        "id": "D2fhqW3pQ5pc"
      },
      "source": [
        "model.add(Flatten())\n",
        "model.add(Dense(64, activation='relu'))\n",
        "model.add(Dense(100, activation='softmax'))"
      ],
      "execution_count": 28,
      "outputs": []
    },
    {
      "cell_type": "code",
      "metadata": {
        "id": "4laxHbhHQ85u"
      },
      "source": [
        "from tensorflow.keras.utils import to_categorical"
      ],
      "execution_count": 29,
      "outputs": []
    },
    {
      "cell_type": "code",
      "metadata": {
        "colab": {
          "base_uri": "https://localhost:8080/"
        },
        "id": "vPP-sd_4RAf4",
        "outputId": "4d7bdbbd-3d36-4324-aff3-3b3061082919"
      },
      "source": [
        "train_images = train_images.reshape((50000, 32, 32, 3))\n",
        "train_images = train_images.astype('float32') / 255\n",
        "test_images = test_images.reshape((10000, 32, 32, 3))\n",
        "test_images = test_images.astype('float32') / 255\n",
        "train_labels = to_categorical(train_labels)\n",
        "test_labels = to_categorical(test_labels)\n",
        "model.compile(optimizer='rmsprop',\n",
        "loss='categorical_crossentropy',\n",
        "metrics=['accuracy'])\n",
        "model.fit(train_images, train_labels, epochs=20, batch_size=64)"
      ],
      "execution_count": 30,
      "outputs": [
        {
          "output_type": "stream",
          "name": "stdout",
          "text": [
            "Epoch 1/20\n",
            "782/782 [==============================] - 9s 11ms/step - loss: 3.9372 - accuracy: 0.1050\n",
            "Epoch 2/20\n",
            "782/782 [==============================] - 8s 10ms/step - loss: 3.2375 - accuracy: 0.2242\n",
            "Epoch 3/20\n",
            "782/782 [==============================] - 8s 10ms/step - loss: 2.8755 - accuracy: 0.2904\n",
            "Epoch 4/20\n",
            "782/782 [==============================] - 8s 10ms/step - loss: 2.6241 - accuracy: 0.3405\n",
            "Epoch 5/20\n",
            "782/782 [==============================] - 8s 10ms/step - loss: 2.4315 - accuracy: 0.3799\n",
            "Epoch 6/20\n",
            "782/782 [==============================] - 8s 10ms/step - loss: 2.2564 - accuracy: 0.4185\n",
            "Epoch 7/20\n",
            "782/782 [==============================] - 8s 10ms/step - loss: 2.0959 - accuracy: 0.4495\n",
            "Epoch 8/20\n",
            "782/782 [==============================] - 8s 10ms/step - loss: 1.9362 - accuracy: 0.4862\n",
            "Epoch 9/20\n",
            "782/782 [==============================] - 8s 10ms/step - loss: 1.7713 - accuracy: 0.5253\n",
            "Epoch 10/20\n",
            "782/782 [==============================] - 8s 10ms/step - loss: 1.6081 - accuracy: 0.5619\n",
            "Epoch 11/20\n",
            "782/782 [==============================] - 8s 10ms/step - loss: 1.4557 - accuracy: 0.5970\n",
            "Epoch 12/20\n",
            "782/782 [==============================] - 8s 10ms/step - loss: 1.2987 - accuracy: 0.6363\n",
            "Epoch 13/20\n",
            "782/782 [==============================] - 8s 10ms/step - loss: 1.1488 - accuracy: 0.6739\n",
            "Epoch 14/20\n",
            "782/782 [==============================] - 8s 10ms/step - loss: 1.0037 - accuracy: 0.7092\n",
            "Epoch 15/20\n",
            "782/782 [==============================] - 8s 10ms/step - loss: 0.8705 - accuracy: 0.7445\n",
            "Epoch 16/20\n",
            "782/782 [==============================] - 8s 10ms/step - loss: 0.7505 - accuracy: 0.7739\n",
            "Epoch 17/20\n",
            "782/782 [==============================] - 8s 10ms/step - loss: 0.6450 - accuracy: 0.8045\n",
            "Epoch 18/20\n",
            "782/782 [==============================] - 8s 10ms/step - loss: 0.5509 - accuracy: 0.8309\n",
            "Epoch 19/20\n",
            "782/782 [==============================] - 8s 10ms/step - loss: 0.4770 - accuracy: 0.8490\n",
            "Epoch 20/20\n",
            "782/782 [==============================] - 8s 10ms/step - loss: 0.4151 - accuracy: 0.8686\n"
          ]
        },
        {
          "output_type": "execute_result",
          "data": {
            "text/plain": [
              "<keras.callbacks.History at 0x7f2547d21e10>"
            ]
          },
          "metadata": {},
          "execution_count": 30
        }
      ]
    },
    {
      "cell_type": "code",
      "metadata": {
        "id": "JP0b60cZREDj"
      },
      "source": [
        ""
      ],
      "execution_count": 30,
      "outputs": []
    }
  ]
}