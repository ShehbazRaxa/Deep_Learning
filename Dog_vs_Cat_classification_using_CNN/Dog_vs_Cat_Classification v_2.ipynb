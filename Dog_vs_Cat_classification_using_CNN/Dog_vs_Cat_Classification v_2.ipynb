{
  "nbformat": 4,
  "nbformat_minor": 0,
  "metadata": {
    "accelerator": "GPU",
    "colab": {
      "name": "Dog_vs_Cat_Classification.ipynb",
      "provenance": []
    },
    "kernelspec": {
      "display_name": "Python 3",
      "name": "python3"
    },
    "language_info": {
      "name": "python"
    }
  },
  "cells": [
    {
      "cell_type": "code",
      "metadata": {
        "colab": {
          "base_uri": "https://localhost:8080/"
        },
        "id": "Cj8IoOGXmpxw",
        "outputId": "6fc1e88d-5c13-49cf-910f-dbfab7125848"
      },
      "source": [
        "from google.colab import drive\n",
        "drive.mount('/content/drive')"
      ],
      "execution_count": null,
      "outputs": [
        {
          "output_type": "stream",
          "name": "stdout",
          "text": [
            "Drive already mounted at /content/drive; to attempt to forcibly remount, call drive.mount(\"/content/drive\", force_remount=True).\n"
          ]
        }
      ]
    },
    {
      "cell_type": "code",
      "metadata": {
        "id": "BLSmFWxcmwyg"
      },
      "source": [
        "from tensorflow.keras import models\n",
        "from tensorflow.keras.layers import *\n",
        "model = models.Sequential()"
      ],
      "execution_count": null,
      "outputs": []
    },
    {
      "cell_type": "code",
      "metadata": {
        "id": "gPPsx21mnDUH"
      },
      "source": [
        "model.add(Conv2D(32, (3, 3), activation='relu',input_shape=(150, 150, 3)))\n",
        "model.add(MaxPooling2D((2, 2)))\n",
        "model.add(Conv2D(64, (3, 3), activation='relu'))\n",
        "model.add(MaxPooling2D((2, 2)))\n",
        "model.add(Conv2D(128, (3, 3), activation='relu'))\n",
        "model.add(MaxPooling2D((2, 2)))\n",
        "model.add(Conv2D(128, (3, 3), activation='relu'))\n",
        "model.add(MaxPooling2D((2, 2)))"
      ],
      "execution_count": null,
      "outputs": []
    },
    {
      "cell_type": "code",
      "metadata": {
        "id": "GUm_nuD8nJU4"
      },
      "source": [
        "model.add(Flatten())\n",
        "model.add(Dropout(0.5))\n",
        "model.add(Dense(256, activation='relu'))\n",
        "model.add(Dense(1, activation='sigmoid'))"
      ],
      "execution_count": null,
      "outputs": []
    },
    {
      "cell_type": "code",
      "metadata": {
        "colab": {
          "base_uri": "https://localhost:8080/"
        },
        "id": "Y17i7ZC-nP3x",
        "outputId": "78ad5f44-215f-4da3-c089-9f801fbac8cb"
      },
      "source": [
        "model.summary()"
      ],
      "execution_count": null,
      "outputs": [
        {
          "output_type": "stream",
          "name": "stdout",
          "text": [
            "Model: \"sequential_6\"\n",
            "_________________________________________________________________\n",
            "Layer (type)                 Output Shape              Param #   \n",
            "=================================================================\n",
            "conv2d_24 (Conv2D)           (None, 148, 148, 32)      896       \n",
            "_________________________________________________________________\n",
            "max_pooling2d_24 (MaxPooling (None, 74, 74, 32)        0         \n",
            "_________________________________________________________________\n",
            "conv2d_25 (Conv2D)           (None, 72, 72, 64)        18496     \n",
            "_________________________________________________________________\n",
            "max_pooling2d_25 (MaxPooling (None, 36, 36, 64)        0         \n",
            "_________________________________________________________________\n",
            "conv2d_26 (Conv2D)           (None, 34, 34, 128)       73856     \n",
            "_________________________________________________________________\n",
            "max_pooling2d_26 (MaxPooling (None, 17, 17, 128)       0         \n",
            "_________________________________________________________________\n",
            "conv2d_27 (Conv2D)           (None, 15, 15, 128)       147584    \n",
            "_________________________________________________________________\n",
            "max_pooling2d_27 (MaxPooling (None, 7, 7, 128)         0         \n",
            "_________________________________________________________________\n",
            "flatten_6 (Flatten)          (None, 6272)              0         \n",
            "_________________________________________________________________\n",
            "dropout (Dropout)            (None, 6272)              0         \n",
            "_________________________________________________________________\n",
            "dense_12 (Dense)             (None, 256)               1605888   \n",
            "_________________________________________________________________\n",
            "dense_13 (Dense)             (None, 1)                 257       \n",
            "=================================================================\n",
            "Total params: 1,846,977\n",
            "Trainable params: 1,846,977\n",
            "Non-trainable params: 0\n",
            "_________________________________________________________________\n"
          ]
        }
      ]
    },
    {
      "cell_type": "code",
      "metadata": {
        "id": "ZW7vlhi7nSJw"
      },
      "source": [
        "from tensorflow.keras import optimizers\n",
        "opt = optimizers.RMSprop()"
      ],
      "execution_count": null,
      "outputs": []
    },
    {
      "cell_type": "code",
      "metadata": {
        "id": "vSJ64P3EnfCN"
      },
      "source": [
        "from keras import optimizers\n",
        "model.compile(loss='binary_crossentropy',\n",
        "optimizer=opt,\n",
        "metrics=['acc'])"
      ],
      "execution_count": null,
      "outputs": []
    },
    {
      "cell_type": "code",
      "metadata": {
        "id": "BuisxE-8nhII"
      },
      "source": [
        "train_dir = '/content/drive/MyDrive/Colab Notebooks/Datatset v_2/Trian'\n",
        "test_dir = '/content/drive/MyDrive/Colab Notebooks/Datatset v_2/Test'\n",
        "validation_dir = '/content/drive/MyDrive/Colab Notebooks/Datatset v_2/validation'"
      ],
      "execution_count": null,
      "outputs": []
    },
    {
      "cell_type": "code",
      "metadata": {
        "id": "flF-i_Pan3c0"
      },
      "source": [
        "from keras.preprocessing.image import ImageDataGenerator"
      ],
      "execution_count": null,
      "outputs": []
    },
    {
      "cell_type": "code",
      "metadata": {
        "id": "vAKGb9U0n6wg"
      },
      "source": [
        "train_datagen = ImageDataGenerator(rescale=1./255)\n",
        "test_datagen = ImageDataGenerator(rescale=1./255)\n",
        "validation_datagen = ImageDataGenerator(rescale=1./255)"
      ],
      "execution_count": null,
      "outputs": []
    },
    {
      "cell_type": "code",
      "metadata": {
        "colab": {
          "base_uri": "https://localhost:8080/"
        },
        "id": "54ZCMLvan-Hr",
        "outputId": "ff1531ae-8946-4811-ec5d-74e616013c80"
      },
      "source": [
        "train_generator = train_datagen.flow_from_directory(\n",
        "train_dir,\n",
        "target_size=(150, 150),batch_size=20,\n",
        "class_mode='binary')"
      ],
      "execution_count": null,
      "outputs": [
        {
          "output_type": "stream",
          "name": "stdout",
          "text": [
            "Found 4000 images belonging to 2 classes.\n"
          ]
        }
      ]
    },
    {
      "cell_type": "code",
      "metadata": {
        "colab": {
          "base_uri": "https://localhost:8080/"
        },
        "id": "-gZVKbifoAYe",
        "outputId": "92371043-3824-40d7-e3e1-f91d651bf75e"
      },
      "source": [
        "validation_generator = test_datagen.flow_from_directory(\n",
        "validation_dir,target_size=(150, 150),\n",
        "batch_size=20,\n",
        "class_mode='binary')"
      ],
      "execution_count": null,
      "outputs": [
        {
          "output_type": "stream",
          "name": "stdout",
          "text": [
            "Found 1000 images belonging to 2 classes.\n"
          ]
        }
      ]
    },
    {
      "cell_type": "code",
      "metadata": {
        "colab": {
          "base_uri": "https://localhost:8080/"
        },
        "id": "76U5OMDPoDI8",
        "outputId": "b532fb6b-9b02-423e-d198-a9fff0a46846"
      },
      "source": [
        "test_generator = test_datagen.flow_from_directory(\n",
        "test_dir,target_size=(150, 150),\n",
        "batch_size=20,\n",
        "class_mode='binary')"
      ],
      "execution_count": null,
      "outputs": [
        {
          "output_type": "stream",
          "name": "stdout",
          "text": [
            "Found 480 images belonging to 2 classes.\n"
          ]
        }
      ]
    },
    {
      "cell_type": "code",
      "metadata": {
        "colab": {
          "base_uri": "https://localhost:8080/"
        },
        "id": "Mqj3DV4OoFVu",
        "outputId": "e2733fd7-e0be-4645-e794-05436a06e84f"
      },
      "source": [
        "history = model.fit_generator(\n",
        "train_generator,\n",
        "steps_per_epoch=62,\n",
        "epochs=30,\n",
        "validation_data=validation_generator,\n",
        "validation_steps=15)"
      ],
      "execution_count": null,
      "outputs": [
        {
          "output_type": "stream",
          "name": "stderr",
          "text": [
            "/usr/local/lib/python3.7/dist-packages/keras/engine/training.py:1972: UserWarning: `Model.fit_generator` is deprecated and will be removed in a future version. Please use `Model.fit`, which supports generators.\n",
            "  warnings.warn('`Model.fit_generator` is deprecated and '\n"
          ]
        },
        {
          "output_type": "stream",
          "name": "stdout",
          "text": [
            "Epoch 1/30\n",
            "62/62 [==============================] - 9s 133ms/step - loss: 0.7148 - acc: 0.5427 - val_loss: 0.6974 - val_acc: 0.5067\n",
            "Epoch 2/30\n",
            "62/62 [==============================] - 8s 132ms/step - loss: 0.6950 - acc: 0.5226 - val_loss: 0.6803 - val_acc: 0.5400\n",
            "Epoch 3/30\n",
            "62/62 [==============================] - 8s 136ms/step - loss: 0.6947 - acc: 0.5806 - val_loss: 0.6610 - val_acc: 0.6267\n",
            "Epoch 4/30\n",
            "62/62 [==============================] - 8s 133ms/step - loss: 0.6500 - acc: 0.6113 - val_loss: 0.6300 - val_acc: 0.7067\n",
            "Epoch 5/30\n",
            "62/62 [==============================] - 8s 132ms/step - loss: 0.6111 - acc: 0.6742 - val_loss: 0.6342 - val_acc: 0.6533\n",
            "Epoch 6/30\n",
            "62/62 [==============================] - 8s 130ms/step - loss: 0.5927 - acc: 0.7008 - val_loss: 0.5726 - val_acc: 0.7200\n",
            "Epoch 7/30\n",
            "62/62 [==============================] - 8s 132ms/step - loss: 0.5789 - acc: 0.7121 - val_loss: 0.5592 - val_acc: 0.6967\n",
            "Epoch 8/30\n",
            "62/62 [==============================] - 8s 129ms/step - loss: 0.5845 - acc: 0.7065 - val_loss: 0.5582 - val_acc: 0.7333\n",
            "Epoch 9/30\n",
            "62/62 [==============================] - 8s 129ms/step - loss: 0.5503 - acc: 0.7266 - val_loss: 0.6123 - val_acc: 0.7367\n",
            "Epoch 10/30\n",
            "62/62 [==============================] - 8s 129ms/step - loss: 0.5474 - acc: 0.7387 - val_loss: 0.5624 - val_acc: 0.7267\n",
            "Epoch 11/30\n",
            "62/62 [==============================] - 8s 131ms/step - loss: 0.5294 - acc: 0.7379 - val_loss: 0.5595 - val_acc: 0.7167\n",
            "Epoch 12/30\n",
            "62/62 [==============================] - 8s 131ms/step - loss: 0.5178 - acc: 0.7355 - val_loss: 0.5258 - val_acc: 0.7533\n",
            "Epoch 13/30\n",
            "62/62 [==============================] - 8s 130ms/step - loss: 0.5496 - acc: 0.7355 - val_loss: 0.5562 - val_acc: 0.7267\n",
            "Epoch 14/30\n",
            "62/62 [==============================] - 8s 129ms/step - loss: 0.4947 - acc: 0.7581 - val_loss: 0.6643 - val_acc: 0.7133\n",
            "Epoch 15/30\n",
            "62/62 [==============================] - 8s 128ms/step - loss: 0.4998 - acc: 0.7605 - val_loss: 0.5403 - val_acc: 0.7433\n",
            "Epoch 16/30\n",
            "62/62 [==============================] - 8s 128ms/step - loss: 0.4834 - acc: 0.7742 - val_loss: 0.6615 - val_acc: 0.7333\n",
            "Epoch 17/30\n",
            "62/62 [==============================] - 8s 131ms/step - loss: 0.4836 - acc: 0.7823 - val_loss: 0.5285 - val_acc: 0.7633\n",
            "Epoch 18/30\n",
            "62/62 [==============================] - 8s 132ms/step - loss: 0.4650 - acc: 0.7976 - val_loss: 0.4790 - val_acc: 0.7733\n",
            "Epoch 19/30\n",
            "62/62 [==============================] - 8s 134ms/step - loss: 0.4498 - acc: 0.7903 - val_loss: 0.5836 - val_acc: 0.7367\n",
            "Epoch 20/30\n",
            "62/62 [==============================] - 8s 132ms/step - loss: 0.4517 - acc: 0.7935 - val_loss: 0.5477 - val_acc: 0.7800\n",
            "Epoch 21/30\n",
            "62/62 [==============================] - 8s 131ms/step - loss: 0.4259 - acc: 0.8081 - val_loss: 0.6997 - val_acc: 0.6733\n",
            "Epoch 22/30\n",
            "62/62 [==============================] - 8s 132ms/step - loss: 0.4119 - acc: 0.8032 - val_loss: 0.5045 - val_acc: 0.7900\n",
            "Epoch 23/30\n",
            "62/62 [==============================] - 8s 131ms/step - loss: 0.4178 - acc: 0.8081 - val_loss: 0.5757 - val_acc: 0.7300\n",
            "Epoch 24/30\n",
            "62/62 [==============================] - 8s 131ms/step - loss: 0.4256 - acc: 0.8024 - val_loss: 0.5491 - val_acc: 0.7367\n",
            "Epoch 25/30\n",
            "62/62 [==============================] - 8s 134ms/step - loss: 0.4269 - acc: 0.8137 - val_loss: 0.5023 - val_acc: 0.7667\n",
            "Epoch 26/30\n",
            "62/62 [==============================] - 8s 131ms/step - loss: 0.3710 - acc: 0.8371 - val_loss: 0.5530 - val_acc: 0.7300\n",
            "Epoch 27/30\n",
            "62/62 [==============================] - 8s 133ms/step - loss: 0.3909 - acc: 0.8387 - val_loss: 0.5109 - val_acc: 0.7700\n",
            "Epoch 28/30\n",
            "62/62 [==============================] - 8s 131ms/step - loss: 0.3763 - acc: 0.8468 - val_loss: 0.5398 - val_acc: 0.7833\n",
            "Epoch 29/30\n",
            "62/62 [==============================] - 8s 133ms/step - loss: 0.3635 - acc: 0.8452 - val_loss: 0.6077 - val_acc: 0.7667\n",
            "Epoch 30/30\n",
            "62/62 [==============================] - 8s 131ms/step - loss: 0.3682 - acc: 0.8468 - val_loss: 0.4971 - val_acc: 0.7833\n"
          ]
        }
      ]
    },
    {
      "cell_type": "code",
      "metadata": {
        "colab": {
          "base_uri": "https://localhost:8080/"
        },
        "id": "LdSAZtGVF-iE",
        "outputId": "1cfa1c3d-542d-47e1-956c-c921c18da79d"
      },
      "source": [
        "model.evaluate(test_generator)"
      ],
      "execution_count": null,
      "outputs": [
        {
          "output_type": "stream",
          "name": "stdout",
          "text": [
            "24/24 [==============================] - 2s 94ms/step - loss: 0.5347 - acc: 0.7625\n"
          ]
        },
        {
          "output_type": "execute_result",
          "data": {
            "text/plain": [
              "[0.5346688032150269, 0.762499988079071]"
            ]
          },
          "metadata": {},
          "execution_count": 107
        }
      ]
    },
    {
      "cell_type": "code",
      "metadata": {
        "id": "DOj3eU3lQ3qk"
      },
      "source": [
        ""
      ],
      "execution_count": null,
      "outputs": []
    }
  ]
}