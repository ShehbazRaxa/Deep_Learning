{
  "nbformat": 4,
  "nbformat_minor": 0,
  "metadata": {
    "colab": {
      "name": "Reuters_Newswire_Classification.ipynb",
      "provenance": []
    },
    "kernelspec": {
      "name": "python3",
      "display_name": "Python 3"
    },
    "language_info": {
      "name": "python"
    },
    "accelerator": "GPU"
  },
  "cells": [
    {
      "cell_type": "code",
      "metadata": {
        "id": "dO7E7BneF2zq"
      },
      "source": [
        "import tensorflow as tf\n",
        "from keras.datasets import reuters\n",
        "(train_data, train_labels), (test_data, test_labels) = reuters.load_data(num_words=10000)"
      ],
      "execution_count": 63,
      "outputs": []
    },
    {
      "cell_type": "code",
      "metadata": {
        "id": "WrnxrEM_JdU9"
      },
      "source": [
        "import numpy as np\n",
        "def vectorize_sequences(sequences, dimension=10000):\n",
        "  results = np.zeros((len(sequences), dimension))\n",
        "  for i, sequence in enumerate(sequences):\n",
        "    results[i, sequence] = 1.\n",
        "  return results\n",
        "x_train = vectorize_sequences(train_data)\n",
        "x_test = vectorize_sequences(test_data)"
      ],
      "execution_count": 64,
      "outputs": []
    },
    {
      "cell_type": "code",
      "metadata": {
        "id": "dLMdMAefLilB"
      },
      "source": [
        "from keras.utils.np_utils import to_categorical\n",
        "one_hot_train_labels = to_categorical(train_labels)\n",
        "one_hot_test_labels = to_categorical(test_labels)"
      ],
      "execution_count": 65,
      "outputs": []
    },
    {
      "cell_type": "code",
      "metadata": {
        "id": "XNqRy24qRy2t"
      },
      "source": [
        "from keras import models\n",
        "from keras import layers"
      ],
      "execution_count": 66,
      "outputs": []
    },
    {
      "cell_type": "code",
      "metadata": {
        "id": "fU7tQc3JU7mQ"
      },
      "source": [
        "model = models.Sequential()\n",
        "model.add(layers.Dense(256, activation='relu', input_shape=(10000,)))\n",
        "model.add(layers.Dense(128, activation='relu'))\n",
        "model.add(layers.Dense(46, activation='softmax'))"
      ],
      "execution_count": 67,
      "outputs": []
    },
    {
      "cell_type": "code",
      "metadata": {
        "id": "juei02YQVMGK"
      },
      "source": [
        "model.compile(optimizer='rmsprop',\n",
        "loss='categorical_crossentropy',\n",
        "metrics=['accuracy'])"
      ],
      "execution_count": 68,
      "outputs": []
    },
    {
      "cell_type": "code",
      "metadata": {
        "id": "hpa0gf6UVVPO"
      },
      "source": [
        "x_val = x_train[:1000]\n",
        "partial_x_train = x_train[1000:]\n",
        "y_val = one_hot_train_labels[:1000]\n",
        "partial_y_train = one_hot_train_labels[1000:]"
      ],
      "execution_count": 69,
      "outputs": []
    },
    {
      "cell_type": "code",
      "metadata": {
        "colab": {
          "base_uri": "https://localhost:8080/"
        },
        "id": "KFC7dRLiVhCZ",
        "outputId": "01ad9000-e62c-4e92-c7d3-e644eafa33ae"
      },
      "source": [
        "history = model.fit(partial_x_train,\n",
        "partial_y_train,\n",
        "epochs=10,\n",
        "batch_size=512,\n",
        "validation_data=(x_val, y_val))"
      ],
      "execution_count": 70,
      "outputs": [
        {
          "output_type": "stream",
          "name": "stdout",
          "text": [
            "Epoch 1/10\n",
            "16/16 [==============================] - 1s 32ms/step - loss: 2.0106 - accuracy: 0.5545 - val_loss: 1.2621 - val_accuracy: 0.7180\n",
            "Epoch 2/10\n",
            "16/16 [==============================] - 0s 18ms/step - loss: 0.9582 - accuracy: 0.7924 - val_loss: 1.0275 - val_accuracy: 0.7810\n",
            "Epoch 3/10\n",
            "16/16 [==============================] - 0s 18ms/step - loss: 0.6308 - accuracy: 0.8673 - val_loss: 0.8921 - val_accuracy: 0.8130\n",
            "Epoch 4/10\n",
            "16/16 [==============================] - 0s 17ms/step - loss: 0.4188 - accuracy: 0.9133 - val_loss: 0.8548 - val_accuracy: 0.8150\n",
            "Epoch 5/10\n",
            "16/16 [==============================] - 0s 17ms/step - loss: 0.2965 - accuracy: 0.9345 - val_loss: 0.9127 - val_accuracy: 0.7990\n",
            "Epoch 6/10\n",
            "16/16 [==============================] - 0s 18ms/step - loss: 0.2406 - accuracy: 0.9424 - val_loss: 0.9083 - val_accuracy: 0.8150\n",
            "Epoch 7/10\n",
            "16/16 [==============================] - 0s 19ms/step - loss: 0.1922 - accuracy: 0.9498 - val_loss: 0.9777 - val_accuracy: 0.8000\n",
            "Epoch 8/10\n",
            "16/16 [==============================] - 0s 17ms/step - loss: 0.1690 - accuracy: 0.9541 - val_loss: 0.9169 - val_accuracy: 0.8180\n",
            "Epoch 9/10\n",
            "16/16 [==============================] - 0s 17ms/step - loss: 0.1571 - accuracy: 0.9544 - val_loss: 0.9896 - val_accuracy: 0.8050\n",
            "Epoch 10/10\n",
            "16/16 [==============================] - 0s 18ms/step - loss: 0.1430 - accuracy: 0.9555 - val_loss: 0.9342 - val_accuracy: 0.8120\n"
          ]
        }
      ]
    },
    {
      "cell_type": "code",
      "metadata": {
        "colab": {
          "base_uri": "https://localhost:8080/"
        },
        "id": "jGGtzno8Zy8g",
        "outputId": "3ecd511b-c2eb-4b3d-b493-9706e5a1d916"
      },
      "source": [
        "model.evaluate(x_test,one_hot_test_labels)"
      ],
      "execution_count": 71,
      "outputs": [
        {
          "output_type": "stream",
          "name": "stdout",
          "text": [
            "71/71 [==============================] - 0s 4ms/step - loss: 1.0621 - accuracy: 0.7943\n"
          ]
        },
        {
          "output_type": "execute_result",
          "data": {
            "text/plain": [
              "[1.062138557434082, 0.7943009734153748]"
            ]
          },
          "metadata": {},
          "execution_count": 71
        }
      ]
    },
    {
      "cell_type": "code",
      "metadata": {
        "id": "yndViRRYaYKg"
      },
      "source": [
        "model.save('Reuters_Newswire_Classification.h5')"
      ],
      "execution_count": 76,
      "outputs": []
    },
    {
      "cell_type": "code",
      "metadata": {
        "id": "XwkFe_1pVlFz"
      },
      "source": [
        "network = models.Sequential()\n",
        "network.add(layers.Dense(256, activation='relu', input_shape=(10000,)))\n",
        "network.add(layers.Dense(128, activation='relu'))\n",
        "network.add(layers.Dense(46, activation='softmax'))"
      ],
      "execution_count": 72,
      "outputs": []
    },
    {
      "cell_type": "code",
      "metadata": {
        "id": "tqU4IGQmW-T0"
      },
      "source": [
        "network.compile(optimizer='rmsprop',\n",
        "loss='categorical_crossentropy',\n",
        "metrics=['accuracy'])"
      ],
      "execution_count": 73,
      "outputs": []
    },
    {
      "cell_type": "code",
      "metadata": {
        "colab": {
          "base_uri": "https://localhost:8080/"
        },
        "id": "7MsP-0APXFUl",
        "outputId": "02611dc4-8337-4164-c2d8-ef1abc3975bd"
      },
      "source": [
        "network.fit(partial_x_train,\n",
        "partial_y_train,\n",
        "epochs=20,\n",
        "batch_size=512,\n",
        "verbose=0,\n",
        "validation_data=(x_val, y_val))"
      ],
      "execution_count": 74,
      "outputs": [
        {
          "output_type": "execute_result",
          "data": {
            "text/plain": [
              "<keras.callbacks.History at 0x7ff64a843ad0>"
            ]
          },
          "metadata": {},
          "execution_count": 74
        }
      ]
    },
    {
      "cell_type": "code",
      "metadata": {
        "colab": {
          "base_uri": "https://localhost:8080/"
        },
        "id": "X4k0p8XzXSi2",
        "outputId": "ff5c70de-398d-4a55-8322-1518ee07d54b"
      },
      "source": [
        "network.evaluate(x_test,one_hot_test_labels)"
      ],
      "execution_count": 75,
      "outputs": [
        {
          "output_type": "stream",
          "name": "stdout",
          "text": [
            "71/71 [==============================] - 0s 4ms/step - loss: 1.3515 - accuracy: 0.7787\n"
          ]
        },
        {
          "output_type": "execute_result",
          "data": {
            "text/plain": [
              "[1.351521372795105, 0.7787176966667175]"
            ]
          },
          "metadata": {},
          "execution_count": 75
        }
      ]
    },
    {
      "cell_type": "code",
      "metadata": {
        "id": "QrpOtPV1XsXE"
      },
      "source": [
        ""
      ],
      "execution_count": 75,
      "outputs": []
    }
  ]
}