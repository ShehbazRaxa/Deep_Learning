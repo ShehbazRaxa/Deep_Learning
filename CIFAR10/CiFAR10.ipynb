{
  "nbformat": 4,
  "nbformat_minor": 0,
  "metadata": {
    "colab": {
      "name": "CiFAR10.ipynb",
      "provenance": []
    },
    "kernelspec": {
      "display_name": "Python 3",
      "name": "python3"
    },
    "language_info": {
      "name": "python"
    },
    "accelerator": "GPU"
  },
  "cells": [
    {
      "cell_type": "code",
      "metadata": {
        "id": "QuHs_SMnxM66"
      },
      "source": [
        "from keras.datasets import cifar10\n",
        "(train_images, train_labels), (test_images, test_labels) = cifar10.load_data()"
      ],
      "execution_count": 7,
      "outputs": []
    },
    {
      "cell_type": "code",
      "metadata": {
        "id": "_Rx3cUSNIqg0"
      },
      "source": [
        "from tensorflow.keras import models\n",
        "from tensorflow.keras.layers import *\n",
        "model = models.Sequential()"
      ],
      "execution_count": 8,
      "outputs": []
    },
    {
      "cell_type": "code",
      "metadata": {
        "id": "is5RKKuAyUIK"
      },
      "source": [
        "model.add(Conv2D(32, (3, 3), activation='relu', input_shape=(32, 32, 3)))\n",
        "model.add(MaxPooling2D((2, 2)))\n",
        "model.add(Conv2D(64, (3, 3), activation='relu'))\n",
        "model.add(MaxPooling2D((2, 2)))\n",
        "model.add(Conv2D(64, (3, 3), activation='relu'))"
      ],
      "execution_count": 9,
      "outputs": []
    },
    {
      "cell_type": "code",
      "metadata": {
        "id": "szksF9fmfhjV"
      },
      "source": [
        "model.add(Flatten())\n",
        "model.add(Dense(64, activation='relu'))\n",
        "model.add(Dense(10, activation='softmax'))"
      ],
      "execution_count": 10,
      "outputs": []
    },
    {
      "cell_type": "code",
      "metadata": {
        "id": "MA6NZLcjgJoW"
      },
      "source": [
        "from tensorflow.keras.utils import to_categorical"
      ],
      "execution_count": 11,
      "outputs": []
    },
    {
      "cell_type": "code",
      "metadata": {
        "colab": {
          "base_uri": "https://localhost:8080/"
        },
        "id": "9PE9ScahfklT",
        "outputId": "0de8f953-b5f1-43d9-c093-99083f83cba0"
      },
      "source": [
        "train_images = train_images.reshape((50000, 32, 32, 3))\n",
        "train_images = train_images.astype('float32') / 255\n",
        "test_images = test_images.reshape((10000, 32, 32, 3))\n",
        "test_images = test_images.astype('float32') / 255\n",
        "train_labels = to_categorical(train_labels)\n",
        "test_labels = to_categorical(test_labels)\n",
        "model.compile(optimizer='rmsprop',\n",
        "loss='categorical_crossentropy',\n",
        "metrics=['accuracy'])\n",
        "model.fit(train_images, train_labels, epochs=20, batch_size=64)"
      ],
      "execution_count": 12,
      "outputs": [
        {
          "output_type": "stream",
          "name": "stdout",
          "text": [
            "Epoch 1/20\n",
            "782/782 [==============================] - 8s 10ms/step - loss: 1.6450 - accuracy: 0.4032\n",
            "Epoch 2/20\n",
            "782/782 [==============================] - 8s 10ms/step - loss: 1.2393 - accuracy: 0.5601\n",
            "Epoch 3/20\n",
            "782/782 [==============================] - 8s 10ms/step - loss: 1.0550 - accuracy: 0.6304\n",
            "Epoch 4/20\n",
            "782/782 [==============================] - 8s 10ms/step - loss: 0.9401 - accuracy: 0.6718\n",
            "Epoch 5/20\n",
            "782/782 [==============================] - 8s 10ms/step - loss: 0.8494 - accuracy: 0.7045\n",
            "Epoch 6/20\n",
            "782/782 [==============================] - 8s 10ms/step - loss: 0.7772 - accuracy: 0.7292\n",
            "Epoch 7/20\n",
            "782/782 [==============================] - 8s 10ms/step - loss: 0.7193 - accuracy: 0.7485\n",
            "Epoch 8/20\n",
            "782/782 [==============================] - 8s 10ms/step - loss: 0.6664 - accuracy: 0.7679\n",
            "Epoch 9/20\n",
            "782/782 [==============================] - 8s 10ms/step - loss: 0.6162 - accuracy: 0.7855\n",
            "Epoch 10/20\n",
            "782/782 [==============================] - 8s 10ms/step - loss: 0.5754 - accuracy: 0.7994\n",
            "Epoch 11/20\n",
            "782/782 [==============================] - 8s 10ms/step - loss: 0.5324 - accuracy: 0.8128\n",
            "Epoch 12/20\n",
            "782/782 [==============================] - 8s 10ms/step - loss: 0.4944 - accuracy: 0.8280\n",
            "Epoch 13/20\n",
            "782/782 [==============================] - 8s 10ms/step - loss: 0.4616 - accuracy: 0.8381\n",
            "Epoch 14/20\n",
            "782/782 [==============================] - 8s 10ms/step - loss: 0.4227 - accuracy: 0.8501\n",
            "Epoch 15/20\n",
            "782/782 [==============================] - 8s 10ms/step - loss: 0.3901 - accuracy: 0.8637\n",
            "Epoch 16/20\n",
            "782/782 [==============================] - 8s 10ms/step - loss: 0.3600 - accuracy: 0.8736\n",
            "Epoch 17/20\n",
            "782/782 [==============================] - 8s 10ms/step - loss: 0.3285 - accuracy: 0.8838\n",
            "Epoch 18/20\n",
            "782/782 [==============================] - 8s 10ms/step - loss: 0.3025 - accuracy: 0.8921\n",
            "Epoch 19/20\n",
            "782/782 [==============================] - 8s 10ms/step - loss: 0.2801 - accuracy: 0.9002\n",
            "Epoch 20/20\n",
            "782/782 [==============================] - 8s 10ms/step - loss: 0.2582 - accuracy: 0.9079\n"
          ]
        },
        {
          "output_type": "execute_result",
          "data": {
            "text/plain": [
              "<keras.callbacks.History at 0x7ff6700fab50>"
            ]
          },
          "metadata": {},
          "execution_count": 12
        }
      ]
    },
    {
      "cell_type": "code",
      "metadata": {
        "id": "VEb5hMmtgG7j"
      },
      "source": [
        "model.save('CiFAR10.h5')"
      ],
      "execution_count": 13,
      "outputs": []
    },
    {
      "cell_type": "code",
      "metadata": {
        "id": "W6bHaSlui-h-"
      },
      "source": [
        ""
      ],
      "execution_count": null,
      "outputs": []
    }
  ]
}