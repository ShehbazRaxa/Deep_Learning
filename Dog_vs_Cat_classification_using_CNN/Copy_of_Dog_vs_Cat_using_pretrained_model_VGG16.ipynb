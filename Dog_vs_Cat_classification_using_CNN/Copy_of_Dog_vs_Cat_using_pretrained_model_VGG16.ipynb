{
  "nbformat": 4,
  "nbformat_minor": 0,
  "metadata": {
    "accelerator": "GPU",
    "colab": {
      "name": "Copy of Dog_vs_Cat_using_pretrained_model_VGG16.ipynb",
      "provenance": []
    },
    "kernelspec": {
      "display_name": "Python 3",
      "name": "python3"
    },
    "language_info": {
      "name": "python"
    }
  },
  "cells": [
    {
      "cell_type": "code",
      "metadata": {
        "colab": {
          "base_uri": "https://localhost:8080/"
        },
        "id": "Cj8IoOGXmpxw",
        "outputId": "0c105028-322b-40ce-bb91-c4e1df41f884"
      },
      "source": [
        "from google.colab import drive\n",
        "drive.mount('/content/drive')"
      ],
      "execution_count": 9,
      "outputs": [
        {
          "output_type": "stream",
          "name": "stdout",
          "text": [
            "Drive already mounted at /content/drive; to attempt to forcibly remount, call drive.mount(\"/content/drive\", force_remount=True).\n"
          ]
        }
      ]
    },
    {
      "cell_type": "code",
      "metadata": {
        "id": "OPbv01EU96wz"
      },
      "source": [
        "from tensorflow.keras.applications import VGG16\n",
        "conv_base = VGG16(weights='imagenet',\n",
        "include_top=False,\n",
        "input_shape=(150, 150, 3))"
      ],
      "execution_count": 10,
      "outputs": []
    },
    {
      "cell_type": "code",
      "metadata": {
        "colab": {
          "base_uri": "https://localhost:8080/"
        },
        "id": "mUA3VjUl_Emu",
        "outputId": "627725b3-028d-44af-90d4-e5f1c0ba6c9d"
      },
      "source": [
        "conv_base.summary()"
      ],
      "execution_count": 11,
      "outputs": [
        {
          "output_type": "stream",
          "name": "stdout",
          "text": [
            "Model: \"vgg16\"\n",
            "_________________________________________________________________\n",
            "Layer (type)                 Output Shape              Param #   \n",
            "=================================================================\n",
            "input_2 (InputLayer)         [(None, 150, 150, 3)]     0         \n",
            "_________________________________________________________________\n",
            "block1_conv1 (Conv2D)        (None, 150, 150, 64)      1792      \n",
            "_________________________________________________________________\n",
            "block1_conv2 (Conv2D)        (None, 150, 150, 64)      36928     \n",
            "_________________________________________________________________\n",
            "block1_pool (MaxPooling2D)   (None, 75, 75, 64)        0         \n",
            "_________________________________________________________________\n",
            "block2_conv1 (Conv2D)        (None, 75, 75, 128)       73856     \n",
            "_________________________________________________________________\n",
            "block2_conv2 (Conv2D)        (None, 75, 75, 128)       147584    \n",
            "_________________________________________________________________\n",
            "block2_pool (MaxPooling2D)   (None, 37, 37, 128)       0         \n",
            "_________________________________________________________________\n",
            "block3_conv1 (Conv2D)        (None, 37, 37, 256)       295168    \n",
            "_________________________________________________________________\n",
            "block3_conv2 (Conv2D)        (None, 37, 37, 256)       590080    \n",
            "_________________________________________________________________\n",
            "block3_conv3 (Conv2D)        (None, 37, 37, 256)       590080    \n",
            "_________________________________________________________________\n",
            "block3_pool (MaxPooling2D)   (None, 18, 18, 256)       0         \n",
            "_________________________________________________________________\n",
            "block4_conv1 (Conv2D)        (None, 18, 18, 512)       1180160   \n",
            "_________________________________________________________________\n",
            "block4_conv2 (Conv2D)        (None, 18, 18, 512)       2359808   \n",
            "_________________________________________________________________\n",
            "block4_conv3 (Conv2D)        (None, 18, 18, 512)       2359808   \n",
            "_________________________________________________________________\n",
            "block4_pool (MaxPooling2D)   (None, 9, 9, 512)         0         \n",
            "_________________________________________________________________\n",
            "block5_conv1 (Conv2D)        (None, 9, 9, 512)         2359808   \n",
            "_________________________________________________________________\n",
            "block5_conv2 (Conv2D)        (None, 9, 9, 512)         2359808   \n",
            "_________________________________________________________________\n",
            "block5_conv3 (Conv2D)        (None, 9, 9, 512)         2359808   \n",
            "_________________________________________________________________\n",
            "block5_pool (MaxPooling2D)   (None, 4, 4, 512)         0         \n",
            "=================================================================\n",
            "Total params: 14,714,688\n",
            "Trainable params: 14,714,688\n",
            "Non-trainable params: 0\n",
            "_________________________________________________________________\n"
          ]
        }
      ]
    },
    {
      "cell_type": "code",
      "metadata": {
        "id": "BLSmFWxcmwyg"
      },
      "source": [
        "from tensorflow.keras import models\n",
        "from tensorflow.keras.layers import *\n",
        "model = models.Sequential()\n",
        "model.add(conv_base)"
      ],
      "execution_count": 12,
      "outputs": []
    },
    {
      "cell_type": "code",
      "metadata": {
        "id": "GUm_nuD8nJU4"
      },
      "source": [
        "model.add(Flatten())\n",
        "model.add(Dense(256, activation='relu'))\n",
        "model.add(Dense(1, activation='sigmoid'))"
      ],
      "execution_count": 13,
      "outputs": []
    },
    {
      "cell_type": "code",
      "metadata": {
        "colab": {
          "base_uri": "https://localhost:8080/"
        },
        "id": "Y17i7ZC-nP3x",
        "outputId": "0eec6492-3a36-4c9b-f6de-472c8075461e"
      },
      "source": [
        "model.summary()"
      ],
      "execution_count": 14,
      "outputs": [
        {
          "output_type": "stream",
          "name": "stdout",
          "text": [
            "Model: \"sequential_1\"\n",
            "_________________________________________________________________\n",
            "Layer (type)                 Output Shape              Param #   \n",
            "=================================================================\n",
            "vgg16 (Functional)           (None, 4, 4, 512)         14714688  \n",
            "_________________________________________________________________\n",
            "flatten_1 (Flatten)          (None, 8192)              0         \n",
            "_________________________________________________________________\n",
            "dense_2 (Dense)              (None, 256)               2097408   \n",
            "_________________________________________________________________\n",
            "dense_3 (Dense)              (None, 1)                 257       \n",
            "=================================================================\n",
            "Total params: 16,812,353\n",
            "Trainable params: 16,812,353\n",
            "Non-trainable params: 0\n",
            "_________________________________________________________________\n"
          ]
        }
      ]
    },
    {
      "cell_type": "code",
      "metadata": {
        "id": "ZW7vlhi7nSJw"
      },
      "source": [
        "from tensorflow.keras import optimizers\n",
        "opt = optimizers.RMSprop()"
      ],
      "execution_count": 15,
      "outputs": []
    },
    {
      "cell_type": "code",
      "metadata": {
        "id": "vSJ64P3EnfCN"
      },
      "source": [
        "import tensorflow\n",
        "opt = tensorflow.keras.optimizers.RMSprop\n",
        "model.compile(loss='binary_crossentropy',\n",
        "optimizer=opt(learning_rate=2e-5),\n",
        "metrics=['acc'])"
      ],
      "execution_count": 18,
      "outputs": []
    },
    {
      "cell_type": "code",
      "metadata": {
        "id": "BuisxE-8nhII"
      },
      "source": [
        "train_dir = '/content/drive/MyDrive/Colab Notebooks/Datatset v_2/Trian'\n",
        "test_dir = '/content/drive/MyDrive/Colab Notebooks/Datatset v_2/Test'\n",
        "validation_dir = '/content/drive/MyDrive/Colab Notebooks/Datatset v_2/validation'"
      ],
      "execution_count": 19,
      "outputs": []
    },
    {
      "cell_type": "code",
      "metadata": {
        "id": "flF-i_Pan3c0"
      },
      "source": [
        "from keras.preprocessing.image import ImageDataGenerator"
      ],
      "execution_count": 20,
      "outputs": []
    },
    {
      "cell_type": "code",
      "metadata": {
        "id": "vAKGb9U0n6wg"
      },
      "source": [
        "train_datagen = ImageDataGenerator(rotation_range=40,\n",
        "                                   rescale=1./255,\n",
        "width_shift_range=0.2,\n",
        "height_shift_range=0.2,\n",
        "shear_range=0.2,\n",
        "zoom_range=0.2,\n",
        "horizontal_flip=True)\n",
        "test_datagen = ImageDataGenerator(rescale=1./255)\n",
        "validation_datagen = ImageDataGenerator(rescale=1./255)"
      ],
      "execution_count": 21,
      "outputs": []
    },
    {
      "cell_type": "code",
      "metadata": {
        "colab": {
          "base_uri": "https://localhost:8080/"
        },
        "id": "54ZCMLvan-Hr",
        "outputId": "b247983e-40b4-4f6f-9ca3-9689850ee4e9"
      },
      "source": [
        "train_generator = train_datagen.flow_from_directory(\n",
        "train_dir,\n",
        "target_size=(150, 150),batch_size=20,\n",
        "class_mode='binary')"
      ],
      "execution_count": 22,
      "outputs": [
        {
          "output_type": "stream",
          "name": "stdout",
          "text": [
            "Found 4000 images belonging to 2 classes.\n"
          ]
        }
      ]
    },
    {
      "cell_type": "code",
      "metadata": {
        "colab": {
          "base_uri": "https://localhost:8080/"
        },
        "id": "-gZVKbifoAYe",
        "outputId": "9eb2a9cf-5e3a-404f-cdac-a098a5a1ece0"
      },
      "source": [
        "validation_generator = test_datagen.flow_from_directory(\n",
        "validation_dir,target_size=(150, 150),\n",
        "batch_size=20,\n",
        "class_mode='binary')"
      ],
      "execution_count": 23,
      "outputs": [
        {
          "output_type": "stream",
          "name": "stdout",
          "text": [
            "Found 1000 images belonging to 2 classes.\n"
          ]
        }
      ]
    },
    {
      "cell_type": "code",
      "metadata": {
        "colab": {
          "base_uri": "https://localhost:8080/"
        },
        "id": "76U5OMDPoDI8",
        "outputId": "392ea841-7051-469a-e453-616bd28d636e"
      },
      "source": [
        "test_generator = test_datagen.flow_from_directory(\n",
        "test_dir,target_size=(150, 150),\n",
        "batch_size=20,\n",
        "class_mode='binary')"
      ],
      "execution_count": 24,
      "outputs": [
        {
          "output_type": "stream",
          "name": "stdout",
          "text": [
            "Found 480 images belonging to 2 classes.\n"
          ]
        }
      ]
    },
    {
      "cell_type": "code",
      "metadata": {
        "colab": {
          "base_uri": "https://localhost:8080/"
        },
        "id": "Mqj3DV4OoFVu",
        "outputId": "48341b59-9d78-4f88-d589-7f05934c240f"
      },
      "source": [
        "history = model.fit_generator(\n",
        "train_generator,\n",
        "steps_per_epoch=62,\n",
        "epochs=10,\n",
        "validation_data=validation_generator,\n",
        "validation_steps=15)"
      ],
      "execution_count": 25,
      "outputs": [
        {
          "output_type": "stream",
          "name": "stderr",
          "text": [
            "/usr/local/lib/python3.7/dist-packages/keras/engine/training.py:1972: UserWarning: `Model.fit_generator` is deprecated and will be removed in a future version. Please use `Model.fit`, which supports generators.\n",
            "  warnings.warn('`Model.fit_generator` is deprecated and '\n"
          ]
        },
        {
          "output_type": "stream",
          "name": "stdout",
          "text": [
            "Epoch 1/10\n",
            "62/62 [==============================] - 714s 11s/step - loss: 0.5274 - acc: 0.7242 - val_loss: 0.3020 - val_acc: 0.8833\n",
            "Epoch 2/10\n",
            "62/62 [==============================] - 495s 8s/step - loss: 0.3229 - acc: 0.8677 - val_loss: 0.1358 - val_acc: 0.9667\n",
            "Epoch 3/10\n",
            "62/62 [==============================] - 346s 6s/step - loss: 0.2668 - acc: 0.8790 - val_loss: 0.1559 - val_acc: 0.9500\n",
            "Epoch 4/10\n",
            "62/62 [==============================] - 243s 4s/step - loss: 0.2169 - acc: 0.9032 - val_loss: 0.1985 - val_acc: 0.9233\n",
            "Epoch 5/10\n",
            "62/62 [==============================] - 160s 3s/step - loss: 0.1856 - acc: 0.9194 - val_loss: 0.1806 - val_acc: 0.9333\n",
            "Epoch 6/10\n",
            "62/62 [==============================] - 113s 2s/step - loss: 0.2064 - acc: 0.9194 - val_loss: 0.1139 - val_acc: 0.9533\n",
            "Epoch 7/10\n",
            "62/62 [==============================] - 85s 1s/step - loss: 0.1810 - acc: 0.9315 - val_loss: 0.1501 - val_acc: 0.9333\n",
            "Epoch 8/10\n",
            "62/62 [==============================] - 70s 1s/step - loss: 0.1277 - acc: 0.9476 - val_loss: 0.4727 - val_acc: 0.8967\n",
            "Epoch 9/10\n",
            "62/62 [==============================] - 60s 970ms/step - loss: 0.1518 - acc: 0.9355 - val_loss: 0.2928 - val_acc: 0.9133\n",
            "Epoch 10/10\n",
            "62/62 [==============================] - 43s 683ms/step - loss: 0.1434 - acc: 0.9411 - val_loss: 0.2375 - val_acc: 0.9067\n"
          ]
        }
      ]
    },
    {
      "cell_type": "code",
      "metadata": {
        "colab": {
          "base_uri": "https://localhost:8080/"
        },
        "id": "LdSAZtGVF-iE",
        "outputId": "d09f79fe-2780-4824-b3ab-946df96627f6"
      },
      "source": [
        "model.evaluate(test_generator)"
      ],
      "execution_count": 26,
      "outputs": [
        {
          "output_type": "stream",
          "name": "stdout",
          "text": [
            "24/24 [==============================] - 259s 11s/step - loss: 0.1915 - acc: 0.9250\n"
          ]
        },
        {
          "output_type": "execute_result",
          "data": {
            "text/plain": [
              "[0.19147738814353943, 0.925000011920929]"
            ]
          },
          "metadata": {},
          "execution_count": 26
        }
      ]
    },
    {
      "cell_type": "code",
      "metadata": {
        "id": "cniA9CbfVCBE"
      },
      "source": [
        ""
      ],
      "execution_count": null,
      "outputs": []
    }
  ]
}