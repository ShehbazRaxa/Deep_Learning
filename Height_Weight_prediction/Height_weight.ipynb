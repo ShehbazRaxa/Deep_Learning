{
  "nbformat": 4,
  "nbformat_minor": 0,
  "metadata": {
    "colab": {
      "name": "Height_weight.ipynb",
      "provenance": [],
      "collapsed_sections": []
    },
    "kernelspec": {
      "name": "python3",
      "display_name": "Python 3"
    },
    "language_info": {
      "name": "python"
    },
    "accelerator": "GPU"
  },
  "cells": [
    {
      "cell_type": "code",
      "metadata": {
        "id": "j8gIvZGIfuMA"
      },
      "source": [
        "import pandas as pd"
      ],
      "execution_count": 1,
      "outputs": []
    },
    {
      "cell_type": "code",
      "metadata": {
        "id": "x_o8V4hUgaw7"
      },
      "source": [
        "dataset = pd.read_csv('/content/weight-height.csv')"
      ],
      "execution_count": 2,
      "outputs": []
    },
    {
      "cell_type": "code",
      "metadata": {
        "colab": {
          "base_uri": "https://localhost:8080/",
          "height": 422
        },
        "id": "xMzX5wrng0KA",
        "outputId": "1a4ad3e5-44cc-4cb3-c4fe-5d5f442f26a5"
      },
      "source": [
        "dataset"
      ],
      "execution_count": 3,
      "outputs": [
        {
          "output_type": "execute_result",
          "data": {
            "text/html": [
              "<div>\n",
              "<style scoped>\n",
              "    .dataframe tbody tr th:only-of-type {\n",
              "        vertical-align: middle;\n",
              "    }\n",
              "\n",
              "    .dataframe tbody tr th {\n",
              "        vertical-align: top;\n",
              "    }\n",
              "\n",
              "    .dataframe thead th {\n",
              "        text-align: right;\n",
              "    }\n",
              "</style>\n",
              "<table border=\"1\" class=\"dataframe\">\n",
              "  <thead>\n",
              "    <tr style=\"text-align: right;\">\n",
              "      <th></th>\n",
              "      <th>Gender</th>\n",
              "      <th>Height</th>\n",
              "      <th>Weight</th>\n",
              "    </tr>\n",
              "  </thead>\n",
              "  <tbody>\n",
              "    <tr>\n",
              "      <th>0</th>\n",
              "      <td>Male</td>\n",
              "      <td>73.847017</td>\n",
              "      <td>241.893563</td>\n",
              "    </tr>\n",
              "    <tr>\n",
              "      <th>1</th>\n",
              "      <td>Male</td>\n",
              "      <td>68.781904</td>\n",
              "      <td>162.310473</td>\n",
              "    </tr>\n",
              "    <tr>\n",
              "      <th>2</th>\n",
              "      <td>Male</td>\n",
              "      <td>74.110105</td>\n",
              "      <td>212.740856</td>\n",
              "    </tr>\n",
              "    <tr>\n",
              "      <th>3</th>\n",
              "      <td>Male</td>\n",
              "      <td>71.730978</td>\n",
              "      <td>220.042470</td>\n",
              "    </tr>\n",
              "    <tr>\n",
              "      <th>4</th>\n",
              "      <td>Male</td>\n",
              "      <td>69.881796</td>\n",
              "      <td>206.349801</td>\n",
              "    </tr>\n",
              "    <tr>\n",
              "      <th>...</th>\n",
              "      <td>...</td>\n",
              "      <td>...</td>\n",
              "      <td>...</td>\n",
              "    </tr>\n",
              "    <tr>\n",
              "      <th>9995</th>\n",
              "      <td>Female</td>\n",
              "      <td>66.172652</td>\n",
              "      <td>136.777454</td>\n",
              "    </tr>\n",
              "    <tr>\n",
              "      <th>9996</th>\n",
              "      <td>Female</td>\n",
              "      <td>67.067155</td>\n",
              "      <td>170.867906</td>\n",
              "    </tr>\n",
              "    <tr>\n",
              "      <th>9997</th>\n",
              "      <td>Female</td>\n",
              "      <td>63.867992</td>\n",
              "      <td>128.475319</td>\n",
              "    </tr>\n",
              "    <tr>\n",
              "      <th>9998</th>\n",
              "      <td>Female</td>\n",
              "      <td>69.034243</td>\n",
              "      <td>163.852461</td>\n",
              "    </tr>\n",
              "    <tr>\n",
              "      <th>9999</th>\n",
              "      <td>Female</td>\n",
              "      <td>61.944246</td>\n",
              "      <td>113.649103</td>\n",
              "    </tr>\n",
              "  </tbody>\n",
              "</table>\n",
              "<p>10000 rows × 3 columns</p>\n",
              "</div>"
            ],
            "text/plain": [
              "      Gender     Height      Weight\n",
              "0       Male  73.847017  241.893563\n",
              "1       Male  68.781904  162.310473\n",
              "2       Male  74.110105  212.740856\n",
              "3       Male  71.730978  220.042470\n",
              "4       Male  69.881796  206.349801\n",
              "...      ...        ...         ...\n",
              "9995  Female  66.172652  136.777454\n",
              "9996  Female  67.067155  170.867906\n",
              "9997  Female  63.867992  128.475319\n",
              "9998  Female  69.034243  163.852461\n",
              "9999  Female  61.944246  113.649103\n",
              "\n",
              "[10000 rows x 3 columns]"
            ]
          },
          "metadata": {},
          "execution_count": 3
        }
      ]
    },
    {
      "cell_type": "code",
      "metadata": {
        "colab": {
          "base_uri": "https://localhost:8080/"
        },
        "id": "_dhe4XTag12b",
        "outputId": "7d8c311e-5c94-4129-8c75-da84cca1e495"
      },
      "source": [
        "dataset.info()"
      ],
      "execution_count": 4,
      "outputs": [
        {
          "output_type": "stream",
          "name": "stdout",
          "text": [
            "<class 'pandas.core.frame.DataFrame'>\n",
            "RangeIndex: 10000 entries, 0 to 9999\n",
            "Data columns (total 3 columns):\n",
            " #   Column  Non-Null Count  Dtype  \n",
            "---  ------  --------------  -----  \n",
            " 0   Gender  10000 non-null  object \n",
            " 1   Height  10000 non-null  float64\n",
            " 2   Weight  10000 non-null  float64\n",
            "dtypes: float64(2), object(1)\n",
            "memory usage: 234.5+ KB\n"
          ]
        }
      ]
    },
    {
      "cell_type": "code",
      "metadata": {
        "colab": {
          "base_uri": "https://localhost:8080/",
          "height": 422
        },
        "id": "rQ7HFKaXkSOF",
        "outputId": "338df9d2-4e8c-45c4-ba8d-1fc2928bf9fd"
      },
      "source": [
        "dataset.sample(frac=1)"
      ],
      "execution_count": 5,
      "outputs": [
        {
          "output_type": "execute_result",
          "data": {
            "text/html": [
              "<div>\n",
              "<style scoped>\n",
              "    .dataframe tbody tr th:only-of-type {\n",
              "        vertical-align: middle;\n",
              "    }\n",
              "\n",
              "    .dataframe tbody tr th {\n",
              "        vertical-align: top;\n",
              "    }\n",
              "\n",
              "    .dataframe thead th {\n",
              "        text-align: right;\n",
              "    }\n",
              "</style>\n",
              "<table border=\"1\" class=\"dataframe\">\n",
              "  <thead>\n",
              "    <tr style=\"text-align: right;\">\n",
              "      <th></th>\n",
              "      <th>Gender</th>\n",
              "      <th>Height</th>\n",
              "      <th>Weight</th>\n",
              "    </tr>\n",
              "  </thead>\n",
              "  <tbody>\n",
              "    <tr>\n",
              "      <th>3287</th>\n",
              "      <td>Male</td>\n",
              "      <td>69.237052</td>\n",
              "      <td>197.560031</td>\n",
              "    </tr>\n",
              "    <tr>\n",
              "      <th>2721</th>\n",
              "      <td>Male</td>\n",
              "      <td>71.715870</td>\n",
              "      <td>190.994311</td>\n",
              "    </tr>\n",
              "    <tr>\n",
              "      <th>8783</th>\n",
              "      <td>Female</td>\n",
              "      <td>62.686276</td>\n",
              "      <td>130.120433</td>\n",
              "    </tr>\n",
              "    <tr>\n",
              "      <th>205</th>\n",
              "      <td>Male</td>\n",
              "      <td>63.414587</td>\n",
              "      <td>160.140616</td>\n",
              "    </tr>\n",
              "    <tr>\n",
              "      <th>4824</th>\n",
              "      <td>Male</td>\n",
              "      <td>67.668449</td>\n",
              "      <td>193.304069</td>\n",
              "    </tr>\n",
              "    <tr>\n",
              "      <th>...</th>\n",
              "      <td>...</td>\n",
              "      <td>...</td>\n",
              "      <td>...</td>\n",
              "    </tr>\n",
              "    <tr>\n",
              "      <th>5812</th>\n",
              "      <td>Female</td>\n",
              "      <td>68.167986</td>\n",
              "      <td>164.961352</td>\n",
              "    </tr>\n",
              "    <tr>\n",
              "      <th>2956</th>\n",
              "      <td>Male</td>\n",
              "      <td>72.588021</td>\n",
              "      <td>204.343187</td>\n",
              "    </tr>\n",
              "    <tr>\n",
              "      <th>1313</th>\n",
              "      <td>Male</td>\n",
              "      <td>67.612220</td>\n",
              "      <td>190.416504</td>\n",
              "    </tr>\n",
              "    <tr>\n",
              "      <th>9950</th>\n",
              "      <td>Female</td>\n",
              "      <td>61.110725</td>\n",
              "      <td>123.386296</td>\n",
              "    </tr>\n",
              "    <tr>\n",
              "      <th>8909</th>\n",
              "      <td>Female</td>\n",
              "      <td>64.017157</td>\n",
              "      <td>127.939394</td>\n",
              "    </tr>\n",
              "  </tbody>\n",
              "</table>\n",
              "<p>10000 rows × 3 columns</p>\n",
              "</div>"
            ],
            "text/plain": [
              "      Gender     Height      Weight\n",
              "3287    Male  69.237052  197.560031\n",
              "2721    Male  71.715870  190.994311\n",
              "8783  Female  62.686276  130.120433\n",
              "205     Male  63.414587  160.140616\n",
              "4824    Male  67.668449  193.304069\n",
              "...      ...        ...         ...\n",
              "5812  Female  68.167986  164.961352\n",
              "2956    Male  72.588021  204.343187\n",
              "1313    Male  67.612220  190.416504\n",
              "9950  Female  61.110725  123.386296\n",
              "8909  Female  64.017157  127.939394\n",
              "\n",
              "[10000 rows x 3 columns]"
            ]
          },
          "metadata": {},
          "execution_count": 5
        }
      ]
    },
    {
      "cell_type": "code",
      "metadata": {
        "id": "Jt5fFKUZg_DQ"
      },
      "source": [
        "dummy = pd.get_dummies(dataset)"
      ],
      "execution_count": 6,
      "outputs": []
    },
    {
      "cell_type": "code",
      "metadata": {
        "colab": {
          "base_uri": "https://localhost:8080/",
          "height": 422
        },
        "id": "x9teeygihZO0",
        "outputId": "508c1841-0ba4-4766-f9ea-ba6375811729"
      },
      "source": [
        "dummy"
      ],
      "execution_count": 7,
      "outputs": [
        {
          "output_type": "execute_result",
          "data": {
            "text/html": [
              "<div>\n",
              "<style scoped>\n",
              "    .dataframe tbody tr th:only-of-type {\n",
              "        vertical-align: middle;\n",
              "    }\n",
              "\n",
              "    .dataframe tbody tr th {\n",
              "        vertical-align: top;\n",
              "    }\n",
              "\n",
              "    .dataframe thead th {\n",
              "        text-align: right;\n",
              "    }\n",
              "</style>\n",
              "<table border=\"1\" class=\"dataframe\">\n",
              "  <thead>\n",
              "    <tr style=\"text-align: right;\">\n",
              "      <th></th>\n",
              "      <th>Height</th>\n",
              "      <th>Weight</th>\n",
              "      <th>Gender_Female</th>\n",
              "      <th>Gender_Male</th>\n",
              "    </tr>\n",
              "  </thead>\n",
              "  <tbody>\n",
              "    <tr>\n",
              "      <th>0</th>\n",
              "      <td>73.847017</td>\n",
              "      <td>241.893563</td>\n",
              "      <td>0</td>\n",
              "      <td>1</td>\n",
              "    </tr>\n",
              "    <tr>\n",
              "      <th>1</th>\n",
              "      <td>68.781904</td>\n",
              "      <td>162.310473</td>\n",
              "      <td>0</td>\n",
              "      <td>1</td>\n",
              "    </tr>\n",
              "    <tr>\n",
              "      <th>2</th>\n",
              "      <td>74.110105</td>\n",
              "      <td>212.740856</td>\n",
              "      <td>0</td>\n",
              "      <td>1</td>\n",
              "    </tr>\n",
              "    <tr>\n",
              "      <th>3</th>\n",
              "      <td>71.730978</td>\n",
              "      <td>220.042470</td>\n",
              "      <td>0</td>\n",
              "      <td>1</td>\n",
              "    </tr>\n",
              "    <tr>\n",
              "      <th>4</th>\n",
              "      <td>69.881796</td>\n",
              "      <td>206.349801</td>\n",
              "      <td>0</td>\n",
              "      <td>1</td>\n",
              "    </tr>\n",
              "    <tr>\n",
              "      <th>...</th>\n",
              "      <td>...</td>\n",
              "      <td>...</td>\n",
              "      <td>...</td>\n",
              "      <td>...</td>\n",
              "    </tr>\n",
              "    <tr>\n",
              "      <th>9995</th>\n",
              "      <td>66.172652</td>\n",
              "      <td>136.777454</td>\n",
              "      <td>1</td>\n",
              "      <td>0</td>\n",
              "    </tr>\n",
              "    <tr>\n",
              "      <th>9996</th>\n",
              "      <td>67.067155</td>\n",
              "      <td>170.867906</td>\n",
              "      <td>1</td>\n",
              "      <td>0</td>\n",
              "    </tr>\n",
              "    <tr>\n",
              "      <th>9997</th>\n",
              "      <td>63.867992</td>\n",
              "      <td>128.475319</td>\n",
              "      <td>1</td>\n",
              "      <td>0</td>\n",
              "    </tr>\n",
              "    <tr>\n",
              "      <th>9998</th>\n",
              "      <td>69.034243</td>\n",
              "      <td>163.852461</td>\n",
              "      <td>1</td>\n",
              "      <td>0</td>\n",
              "    </tr>\n",
              "    <tr>\n",
              "      <th>9999</th>\n",
              "      <td>61.944246</td>\n",
              "      <td>113.649103</td>\n",
              "      <td>1</td>\n",
              "      <td>0</td>\n",
              "    </tr>\n",
              "  </tbody>\n",
              "</table>\n",
              "<p>10000 rows × 4 columns</p>\n",
              "</div>"
            ],
            "text/plain": [
              "         Height      Weight  Gender_Female  Gender_Male\n",
              "0     73.847017  241.893563              0            1\n",
              "1     68.781904  162.310473              0            1\n",
              "2     74.110105  212.740856              0            1\n",
              "3     71.730978  220.042470              0            1\n",
              "4     69.881796  206.349801              0            1\n",
              "...         ...         ...            ...          ...\n",
              "9995  66.172652  136.777454              1            0\n",
              "9996  67.067155  170.867906              1            0\n",
              "9997  63.867992  128.475319              1            0\n",
              "9998  69.034243  163.852461              1            0\n",
              "9999  61.944246  113.649103              1            0\n",
              "\n",
              "[10000 rows x 4 columns]"
            ]
          },
          "metadata": {},
          "execution_count": 7
        }
      ]
    },
    {
      "cell_type": "code",
      "metadata": {
        "colab": {
          "base_uri": "https://localhost:8080/"
        },
        "id": "ml6xZWD8haKV",
        "outputId": "29854854-6275-435b-e12d-89b265d4dbba"
      },
      "source": [
        "dataset['Gender'].value_counts()"
      ],
      "execution_count": 8,
      "outputs": [
        {
          "output_type": "execute_result",
          "data": {
            "text/plain": [
              "Male      5000\n",
              "Female    5000\n",
              "Name: Gender, dtype: int64"
            ]
          },
          "metadata": {},
          "execution_count": 8
        }
      ]
    },
    {
      "cell_type": "code",
      "metadata": {
        "colab": {
          "base_uri": "https://localhost:8080/",
          "height": 422
        },
        "id": "YtQVvNwTkn8h",
        "outputId": "8d197f5f-181f-4317-823b-5cd410acc41a"
      },
      "source": [
        "dummy.sample(frac=1)"
      ],
      "execution_count": 9,
      "outputs": [
        {
          "output_type": "execute_result",
          "data": {
            "text/html": [
              "<div>\n",
              "<style scoped>\n",
              "    .dataframe tbody tr th:only-of-type {\n",
              "        vertical-align: middle;\n",
              "    }\n",
              "\n",
              "    .dataframe tbody tr th {\n",
              "        vertical-align: top;\n",
              "    }\n",
              "\n",
              "    .dataframe thead th {\n",
              "        text-align: right;\n",
              "    }\n",
              "</style>\n",
              "<table border=\"1\" class=\"dataframe\">\n",
              "  <thead>\n",
              "    <tr style=\"text-align: right;\">\n",
              "      <th></th>\n",
              "      <th>Height</th>\n",
              "      <th>Weight</th>\n",
              "      <th>Gender_Female</th>\n",
              "      <th>Gender_Male</th>\n",
              "    </tr>\n",
              "  </thead>\n",
              "  <tbody>\n",
              "    <tr>\n",
              "      <th>3521</th>\n",
              "      <td>66.881314</td>\n",
              "      <td>173.554645</td>\n",
              "      <td>0</td>\n",
              "      <td>1</td>\n",
              "    </tr>\n",
              "    <tr>\n",
              "      <th>8584</th>\n",
              "      <td>58.777124</td>\n",
              "      <td>112.561989</td>\n",
              "      <td>1</td>\n",
              "      <td>0</td>\n",
              "    </tr>\n",
              "    <tr>\n",
              "      <th>9034</th>\n",
              "      <td>58.345533</td>\n",
              "      <td>110.245575</td>\n",
              "      <td>1</td>\n",
              "      <td>0</td>\n",
              "    </tr>\n",
              "    <tr>\n",
              "      <th>390</th>\n",
              "      <td>64.995078</td>\n",
              "      <td>177.727094</td>\n",
              "      <td>0</td>\n",
              "      <td>1</td>\n",
              "    </tr>\n",
              "    <tr>\n",
              "      <th>8888</th>\n",
              "      <td>63.199965</td>\n",
              "      <td>147.029164</td>\n",
              "      <td>1</td>\n",
              "      <td>0</td>\n",
              "    </tr>\n",
              "    <tr>\n",
              "      <th>...</th>\n",
              "      <td>...</td>\n",
              "      <td>...</td>\n",
              "      <td>...</td>\n",
              "      <td>...</td>\n",
              "    </tr>\n",
              "    <tr>\n",
              "      <th>296</th>\n",
              "      <td>67.549069</td>\n",
              "      <td>183.266533</td>\n",
              "      <td>0</td>\n",
              "      <td>1</td>\n",
              "    </tr>\n",
              "    <tr>\n",
              "      <th>9375</th>\n",
              "      <td>60.529168</td>\n",
              "      <td>122.491673</td>\n",
              "      <td>1</td>\n",
              "      <td>0</td>\n",
              "    </tr>\n",
              "    <tr>\n",
              "      <th>4766</th>\n",
              "      <td>71.648345</td>\n",
              "      <td>211.240333</td>\n",
              "      <td>0</td>\n",
              "      <td>1</td>\n",
              "    </tr>\n",
              "    <tr>\n",
              "      <th>1351</th>\n",
              "      <td>66.928807</td>\n",
              "      <td>169.103562</td>\n",
              "      <td>0</td>\n",
              "      <td>1</td>\n",
              "    </tr>\n",
              "    <tr>\n",
              "      <th>4162</th>\n",
              "      <td>69.701668</td>\n",
              "      <td>197.350489</td>\n",
              "      <td>0</td>\n",
              "      <td>1</td>\n",
              "    </tr>\n",
              "  </tbody>\n",
              "</table>\n",
              "<p>10000 rows × 4 columns</p>\n",
              "</div>"
            ],
            "text/plain": [
              "         Height      Weight  Gender_Female  Gender_Male\n",
              "3521  66.881314  173.554645              0            1\n",
              "8584  58.777124  112.561989              1            0\n",
              "9034  58.345533  110.245575              1            0\n",
              "390   64.995078  177.727094              0            1\n",
              "8888  63.199965  147.029164              1            0\n",
              "...         ...         ...            ...          ...\n",
              "296   67.549069  183.266533              0            1\n",
              "9375  60.529168  122.491673              1            0\n",
              "4766  71.648345  211.240333              0            1\n",
              "1351  66.928807  169.103562              0            1\n",
              "4162  69.701668  197.350489              0            1\n",
              "\n",
              "[10000 rows x 4 columns]"
            ]
          },
          "metadata": {},
          "execution_count": 9
        }
      ]
    },
    {
      "cell_type": "code",
      "metadata": {
        "id": "jcrDze4lhoyJ"
      },
      "source": [
        "x = dummy.drop('Weight',axis='columns')"
      ],
      "execution_count": 10,
      "outputs": []
    },
    {
      "cell_type": "code",
      "metadata": {
        "id": "qSIalOdfiASq"
      },
      "source": [
        "y = dummy['Weight']"
      ],
      "execution_count": 11,
      "outputs": []
    },
    {
      "cell_type": "code",
      "metadata": {
        "id": "gQez91ZUiQyD"
      },
      "source": [
        "from sklearn.model_selection import train_test_split"
      ],
      "execution_count": 12,
      "outputs": []
    },
    {
      "cell_type": "code",
      "metadata": {
        "colab": {
          "base_uri": "https://localhost:8080/",
          "height": 422
        },
        "id": "5F6pjhCSjzjC",
        "outputId": "5776da83-9351-4392-dcc8-68a16816b56d"
      },
      "source": [
        "x"
      ],
      "execution_count": 13,
      "outputs": [
        {
          "output_type": "execute_result",
          "data": {
            "text/html": [
              "<div>\n",
              "<style scoped>\n",
              "    .dataframe tbody tr th:only-of-type {\n",
              "        vertical-align: middle;\n",
              "    }\n",
              "\n",
              "    .dataframe tbody tr th {\n",
              "        vertical-align: top;\n",
              "    }\n",
              "\n",
              "    .dataframe thead th {\n",
              "        text-align: right;\n",
              "    }\n",
              "</style>\n",
              "<table border=\"1\" class=\"dataframe\">\n",
              "  <thead>\n",
              "    <tr style=\"text-align: right;\">\n",
              "      <th></th>\n",
              "      <th>Height</th>\n",
              "      <th>Gender_Female</th>\n",
              "      <th>Gender_Male</th>\n",
              "    </tr>\n",
              "  </thead>\n",
              "  <tbody>\n",
              "    <tr>\n",
              "      <th>0</th>\n",
              "      <td>73.847017</td>\n",
              "      <td>0</td>\n",
              "      <td>1</td>\n",
              "    </tr>\n",
              "    <tr>\n",
              "      <th>1</th>\n",
              "      <td>68.781904</td>\n",
              "      <td>0</td>\n",
              "      <td>1</td>\n",
              "    </tr>\n",
              "    <tr>\n",
              "      <th>2</th>\n",
              "      <td>74.110105</td>\n",
              "      <td>0</td>\n",
              "      <td>1</td>\n",
              "    </tr>\n",
              "    <tr>\n",
              "      <th>3</th>\n",
              "      <td>71.730978</td>\n",
              "      <td>0</td>\n",
              "      <td>1</td>\n",
              "    </tr>\n",
              "    <tr>\n",
              "      <th>4</th>\n",
              "      <td>69.881796</td>\n",
              "      <td>0</td>\n",
              "      <td>1</td>\n",
              "    </tr>\n",
              "    <tr>\n",
              "      <th>...</th>\n",
              "      <td>...</td>\n",
              "      <td>...</td>\n",
              "      <td>...</td>\n",
              "    </tr>\n",
              "    <tr>\n",
              "      <th>9995</th>\n",
              "      <td>66.172652</td>\n",
              "      <td>1</td>\n",
              "      <td>0</td>\n",
              "    </tr>\n",
              "    <tr>\n",
              "      <th>9996</th>\n",
              "      <td>67.067155</td>\n",
              "      <td>1</td>\n",
              "      <td>0</td>\n",
              "    </tr>\n",
              "    <tr>\n",
              "      <th>9997</th>\n",
              "      <td>63.867992</td>\n",
              "      <td>1</td>\n",
              "      <td>0</td>\n",
              "    </tr>\n",
              "    <tr>\n",
              "      <th>9998</th>\n",
              "      <td>69.034243</td>\n",
              "      <td>1</td>\n",
              "      <td>0</td>\n",
              "    </tr>\n",
              "    <tr>\n",
              "      <th>9999</th>\n",
              "      <td>61.944246</td>\n",
              "      <td>1</td>\n",
              "      <td>0</td>\n",
              "    </tr>\n",
              "  </tbody>\n",
              "</table>\n",
              "<p>10000 rows × 3 columns</p>\n",
              "</div>"
            ],
            "text/plain": [
              "         Height  Gender_Female  Gender_Male\n",
              "0     73.847017              0            1\n",
              "1     68.781904              0            1\n",
              "2     74.110105              0            1\n",
              "3     71.730978              0            1\n",
              "4     69.881796              0            1\n",
              "...         ...            ...          ...\n",
              "9995  66.172652              1            0\n",
              "9996  67.067155              1            0\n",
              "9997  63.867992              1            0\n",
              "9998  69.034243              1            0\n",
              "9999  61.944246              1            0\n",
              "\n",
              "[10000 rows x 3 columns]"
            ]
          },
          "metadata": {},
          "execution_count": 13
        }
      ]
    },
    {
      "cell_type": "code",
      "metadata": {
        "id": "kBIHmIZKip66"
      },
      "source": [
        "train_data,test_data,train_label,test_label = train_test_split(x,y,test_size=0.2)"
      ],
      "execution_count": 14,
      "outputs": []
    },
    {
      "cell_type": "code",
      "metadata": {
        "id": "v92OY9gAi0kd"
      },
      "source": [
        "from tensorflow.keras import models\n",
        "from tensorflow.keras.layers import *"
      ],
      "execution_count": 15,
      "outputs": []
    },
    {
      "cell_type": "code",
      "metadata": {
        "id": "dW2Ug2Xfk0nf"
      },
      "source": [
        "model = models.Sequential()"
      ],
      "execution_count": 16,
      "outputs": []
    },
    {
      "cell_type": "code",
      "metadata": {
        "id": "tSrBPxAlk22U"
      },
      "source": [
        "model.add(Dense(128,activation='relu',input_shape=(train_data.shape[1],)))\n",
        "model.add(Dense(64,activation='relu'))\n",
        "model.add(Dense(1))"
      ],
      "execution_count": 17,
      "outputs": []
    },
    {
      "cell_type": "code",
      "metadata": {
        "id": "8ZZPRHgKk8R4"
      },
      "source": [
        "model.compile(optimizer='rmsprop',loss='mae',metrics=['mae'])"
      ],
      "execution_count": 18,
      "outputs": []
    },
    {
      "cell_type": "code",
      "metadata": {
        "colab": {
          "base_uri": "https://localhost:8080/"
        },
        "id": "6ulZ2sJ1lCJh",
        "outputId": "3d31ebf6-5a22-49ea-ea58-db3d1aeb9471"
      },
      "source": [
        "model.fit(train_data,train_label,epochs=100)"
      ],
      "execution_count": 19,
      "outputs": [
        {
          "output_type": "stream",
          "name": "stdout",
          "text": [
            "Epoch 1/100\n",
            "250/250 [==============================] - 1s 3ms/step - loss: 31.4284 - mae: 31.4284\n",
            "Epoch 2/100\n",
            "250/250 [==============================] - 1s 3ms/step - loss: 15.5399 - mae: 15.5399\n",
            "Epoch 3/100\n",
            "250/250 [==============================] - 1s 3ms/step - loss: 12.2614 - mae: 12.2614\n",
            "Epoch 4/100\n",
            "250/250 [==============================] - 1s 3ms/step - loss: 11.4071 - mae: 11.4071\n",
            "Epoch 5/100\n",
            "250/250 [==============================] - 1s 3ms/step - loss: 11.3582 - mae: 11.3582\n",
            "Epoch 6/100\n",
            "250/250 [==============================] - 1s 3ms/step - loss: 11.3121 - mae: 11.3121\n",
            "Epoch 7/100\n",
            "250/250 [==============================] - 1s 3ms/step - loss: 11.2086 - mae: 11.2086\n",
            "Epoch 8/100\n",
            "250/250 [==============================] - 1s 3ms/step - loss: 11.3217 - mae: 11.3217\n",
            "Epoch 9/100\n",
            "250/250 [==============================] - 1s 3ms/step - loss: 11.2657 - mae: 11.2657\n",
            "Epoch 10/100\n",
            "250/250 [==============================] - 1s 3ms/step - loss: 11.2000 - mae: 11.2000\n",
            "Epoch 11/100\n",
            "250/250 [==============================] - 1s 3ms/step - loss: 11.1292 - mae: 11.1292\n",
            "Epoch 12/100\n",
            "250/250 [==============================] - 1s 3ms/step - loss: 11.1404 - mae: 11.1404\n",
            "Epoch 13/100\n",
            "250/250 [==============================] - 1s 3ms/step - loss: 11.0812 - mae: 11.0812\n",
            "Epoch 14/100\n",
            "250/250 [==============================] - 1s 3ms/step - loss: 11.1022 - mae: 11.1022\n",
            "Epoch 15/100\n",
            "250/250 [==============================] - 1s 3ms/step - loss: 11.1056 - mae: 11.1056\n",
            "Epoch 16/100\n",
            "250/250 [==============================] - 1s 3ms/step - loss: 11.0551 - mae: 11.0551\n",
            "Epoch 17/100\n",
            "250/250 [==============================] - 1s 3ms/step - loss: 10.9992 - mae: 10.9992\n",
            "Epoch 18/100\n",
            "250/250 [==============================] - 1s 3ms/step - loss: 10.9253 - mae: 10.9253\n",
            "Epoch 19/100\n",
            "250/250 [==============================] - 1s 3ms/step - loss: 10.8970 - mae: 10.8970\n",
            "Epoch 20/100\n",
            "250/250 [==============================] - 1s 3ms/step - loss: 10.8670 - mae: 10.8670\n",
            "Epoch 21/100\n",
            "250/250 [==============================] - 1s 3ms/step - loss: 10.8459 - mae: 10.8459\n",
            "Epoch 22/100\n",
            "250/250 [==============================] - 1s 3ms/step - loss: 10.8648 - mae: 10.8648\n",
            "Epoch 23/100\n",
            "250/250 [==============================] - 1s 3ms/step - loss: 10.7689 - mae: 10.7689\n",
            "Epoch 24/100\n",
            "250/250 [==============================] - 1s 3ms/step - loss: 10.7498 - mae: 10.7498\n",
            "Epoch 25/100\n",
            "250/250 [==============================] - 1s 3ms/step - loss: 10.7284 - mae: 10.7284\n",
            "Epoch 26/100\n",
            "250/250 [==============================] - 1s 3ms/step - loss: 10.7358 - mae: 10.7358\n",
            "Epoch 27/100\n",
            "250/250 [==============================] - 1s 3ms/step - loss: 10.7086 - mae: 10.7086\n",
            "Epoch 28/100\n",
            "250/250 [==============================] - 1s 3ms/step - loss: 10.6140 - mae: 10.6140\n",
            "Epoch 29/100\n",
            "250/250 [==============================] - 1s 3ms/step - loss: 10.5957 - mae: 10.5957\n",
            "Epoch 30/100\n",
            "250/250 [==============================] - 1s 3ms/step - loss: 10.5159 - mae: 10.5159\n",
            "Epoch 31/100\n",
            "250/250 [==============================] - 1s 3ms/step - loss: 10.5021 - mae: 10.5021\n",
            "Epoch 32/100\n",
            "250/250 [==============================] - 1s 3ms/step - loss: 10.5179 - mae: 10.5179\n",
            "Epoch 33/100\n",
            "250/250 [==============================] - 1s 3ms/step - loss: 10.4117 - mae: 10.4117\n",
            "Epoch 34/100\n",
            "250/250 [==============================] - 1s 3ms/step - loss: 10.3271 - mae: 10.3271\n",
            "Epoch 35/100\n",
            "250/250 [==============================] - 1s 3ms/step - loss: 10.3456 - mae: 10.3456\n",
            "Epoch 36/100\n",
            "250/250 [==============================] - 1s 3ms/step - loss: 10.2736 - mae: 10.2736\n",
            "Epoch 37/100\n",
            "250/250 [==============================] - 1s 3ms/step - loss: 10.2692 - mae: 10.2692\n",
            "Epoch 38/100\n",
            "250/250 [==============================] - 1s 3ms/step - loss: 10.1781 - mae: 10.1781\n",
            "Epoch 39/100\n",
            "250/250 [==============================] - 1s 3ms/step - loss: 10.0996 - mae: 10.0996\n",
            "Epoch 40/100\n",
            "250/250 [==============================] - 1s 3ms/step - loss: 9.9947 - mae: 9.9947\n",
            "Epoch 41/100\n",
            "250/250 [==============================] - 1s 3ms/step - loss: 9.9759 - mae: 9.9759\n",
            "Epoch 42/100\n",
            "250/250 [==============================] - 1s 3ms/step - loss: 9.9056 - mae: 9.9056\n",
            "Epoch 43/100\n",
            "250/250 [==============================] - 1s 3ms/step - loss: 9.8173 - mae: 9.8173\n",
            "Epoch 44/100\n",
            "250/250 [==============================] - 1s 3ms/step - loss: 9.7431 - mae: 9.7431\n",
            "Epoch 45/100\n",
            "250/250 [==============================] - 1s 3ms/step - loss: 9.6373 - mae: 9.6373\n",
            "Epoch 46/100\n",
            "250/250 [==============================] - 1s 3ms/step - loss: 9.6032 - mae: 9.6032\n",
            "Epoch 47/100\n",
            "250/250 [==============================] - 1s 2ms/step - loss: 9.5816 - mae: 9.5816\n",
            "Epoch 48/100\n",
            "250/250 [==============================] - 1s 3ms/step - loss: 9.5380 - mae: 9.5380\n",
            "Epoch 49/100\n",
            "250/250 [==============================] - 1s 3ms/step - loss: 9.4573 - mae: 9.4573\n",
            "Epoch 50/100\n",
            "250/250 [==============================] - 1s 2ms/step - loss: 9.3903 - mae: 9.3903\n",
            "Epoch 51/100\n",
            "250/250 [==============================] - 1s 3ms/step - loss: 9.3526 - mae: 9.3526\n",
            "Epoch 52/100\n",
            "250/250 [==============================] - 1s 3ms/step - loss: 9.3568 - mae: 9.3568\n",
            "Epoch 53/100\n",
            "250/250 [==============================] - 1s 3ms/step - loss: 9.2825 - mae: 9.2825\n",
            "Epoch 54/100\n",
            "250/250 [==============================] - 1s 3ms/step - loss: 9.2156 - mae: 9.2156\n",
            "Epoch 55/100\n",
            "250/250 [==============================] - 1s 3ms/step - loss: 9.1991 - mae: 9.1991\n",
            "Epoch 56/100\n",
            "250/250 [==============================] - 1s 3ms/step - loss: 9.1170 - mae: 9.1170\n",
            "Epoch 57/100\n",
            "250/250 [==============================] - 1s 3ms/step - loss: 9.1021 - mae: 9.1021\n",
            "Epoch 58/100\n",
            "250/250 [==============================] - 1s 3ms/step - loss: 9.1210 - mae: 9.1210\n",
            "Epoch 59/100\n",
            "250/250 [==============================] - 1s 3ms/step - loss: 9.1021 - mae: 9.1021\n",
            "Epoch 60/100\n",
            "250/250 [==============================] - 1s 3ms/step - loss: 9.0949 - mae: 9.0949\n",
            "Epoch 61/100\n",
            "250/250 [==============================] - 1s 2ms/step - loss: 9.1189 - mae: 9.1189\n",
            "Epoch 62/100\n",
            "250/250 [==============================] - 1s 3ms/step - loss: 9.0613 - mae: 9.0613\n",
            "Epoch 63/100\n",
            "250/250 [==============================] - 1s 3ms/step - loss: 9.0683 - mae: 9.0683\n",
            "Epoch 64/100\n",
            "250/250 [==============================] - 1s 3ms/step - loss: 8.9596 - mae: 8.9596\n",
            "Epoch 65/100\n",
            "250/250 [==============================] - 1s 3ms/step - loss: 8.9331 - mae: 8.9331\n",
            "Epoch 66/100\n",
            "250/250 [==============================] - 1s 3ms/step - loss: 8.9320 - mae: 8.9320\n",
            "Epoch 67/100\n",
            "250/250 [==============================] - 1s 3ms/step - loss: 8.9025 - mae: 8.9025\n",
            "Epoch 68/100\n",
            "250/250 [==============================] - 1s 3ms/step - loss: 8.8805 - mae: 8.8805\n",
            "Epoch 69/100\n",
            "250/250 [==============================] - 1s 3ms/step - loss: 8.9525 - mae: 8.9525\n",
            "Epoch 70/100\n",
            "250/250 [==============================] - 1s 3ms/step - loss: 8.9288 - mae: 8.9288\n",
            "Epoch 71/100\n",
            "250/250 [==============================] - 1s 3ms/step - loss: 8.8491 - mae: 8.8491\n",
            "Epoch 72/100\n",
            "250/250 [==============================] - 1s 3ms/step - loss: 8.9306 - mae: 8.9306\n",
            "Epoch 73/100\n",
            "250/250 [==============================] - 1s 3ms/step - loss: 8.8313 - mae: 8.8313\n",
            "Epoch 74/100\n",
            "250/250 [==============================] - 1s 3ms/step - loss: 8.9291 - mae: 8.9291\n",
            "Epoch 75/100\n",
            "250/250 [==============================] - 1s 3ms/step - loss: 8.8358 - mae: 8.8358\n",
            "Epoch 76/100\n",
            "250/250 [==============================] - 1s 3ms/step - loss: 8.8309 - mae: 8.8309\n",
            "Epoch 77/100\n",
            "250/250 [==============================] - 1s 3ms/step - loss: 8.8781 - mae: 8.8781\n",
            "Epoch 78/100\n",
            "250/250 [==============================] - 1s 3ms/step - loss: 8.8252 - mae: 8.8252\n",
            "Epoch 79/100\n",
            "250/250 [==============================] - 1s 3ms/step - loss: 8.8517 - mae: 8.8517\n",
            "Epoch 80/100\n",
            "250/250 [==============================] - 1s 3ms/step - loss: 8.8717 - mae: 8.8717\n",
            "Epoch 81/100\n",
            "250/250 [==============================] - 1s 3ms/step - loss: 8.8074 - mae: 8.8074\n",
            "Epoch 82/100\n",
            "250/250 [==============================] - 1s 3ms/step - loss: 8.7694 - mae: 8.7694\n",
            "Epoch 83/100\n",
            "250/250 [==============================] - 1s 3ms/step - loss: 8.8172 - mae: 8.8172\n",
            "Epoch 84/100\n",
            "250/250 [==============================] - 1s 3ms/step - loss: 8.8376 - mae: 8.8376\n",
            "Epoch 85/100\n",
            "250/250 [==============================] - 1s 3ms/step - loss: 8.8136 - mae: 8.8136\n",
            "Epoch 86/100\n",
            "250/250 [==============================] - 1s 3ms/step - loss: 8.8138 - mae: 8.8138\n",
            "Epoch 87/100\n",
            "250/250 [==============================] - 1s 3ms/step - loss: 8.8441 - mae: 8.8441\n",
            "Epoch 88/100\n",
            "250/250 [==============================] - 1s 3ms/step - loss: 8.8217 - mae: 8.8217\n",
            "Epoch 89/100\n",
            "250/250 [==============================] - 1s 3ms/step - loss: 8.7894 - mae: 8.7894\n",
            "Epoch 90/100\n",
            "250/250 [==============================] - 1s 3ms/step - loss: 8.7982 - mae: 8.7982\n",
            "Epoch 91/100\n",
            "250/250 [==============================] - 1s 3ms/step - loss: 8.7741 - mae: 8.7741\n",
            "Epoch 92/100\n",
            "250/250 [==============================] - 1s 3ms/step - loss: 8.7106 - mae: 8.7106\n",
            "Epoch 93/100\n",
            "250/250 [==============================] - 1s 3ms/step - loss: 8.7449 - mae: 8.7449\n",
            "Epoch 94/100\n",
            "250/250 [==============================] - 1s 3ms/step - loss: 8.7574 - mae: 8.7574\n",
            "Epoch 95/100\n",
            "250/250 [==============================] - 1s 2ms/step - loss: 8.8395 - mae: 8.8395\n",
            "Epoch 96/100\n",
            "250/250 [==============================] - 1s 3ms/step - loss: 8.7385 - mae: 8.7385\n",
            "Epoch 97/100\n",
            "250/250 [==============================] - 1s 3ms/step - loss: 8.7223 - mae: 8.7223\n",
            "Epoch 98/100\n",
            "250/250 [==============================] - 1s 3ms/step - loss: 8.7829 - mae: 8.7829\n",
            "Epoch 99/100\n",
            "250/250 [==============================] - 1s 3ms/step - loss: 8.7857 - mae: 8.7857\n",
            "Epoch 100/100\n",
            "250/250 [==============================] - 1s 3ms/step - loss: 8.7014 - mae: 8.7014\n"
          ]
        },
        {
          "output_type": "execute_result",
          "data": {
            "text/plain": [
              "<keras.callbacks.History at 0x7fda904fca50>"
            ]
          },
          "metadata": {},
          "execution_count": 19
        }
      ]
    },
    {
      "cell_type": "code",
      "metadata": {
        "id": "2rvIkltpla5j"
      },
      "source": [
        "test_pred = model.predict(test_data).flatten()"
      ],
      "execution_count": 20,
      "outputs": []
    },
    {
      "cell_type": "code",
      "metadata": {
        "id": "aWqMVOSYlEP9"
      },
      "source": [
        "from sklearn.metrics import mean_squared_error"
      ],
      "execution_count": 21,
      "outputs": []
    },
    {
      "cell_type": "code",
      "metadata": {
        "id": "TifjslZElPUU"
      },
      "source": [
        "errors = mean_squared_error(test_label,test_pred)"
      ],
      "execution_count": 22,
      "outputs": []
    },
    {
      "cell_type": "code",
      "metadata": {
        "colab": {
          "base_uri": "https://localhost:8080/"
        },
        "id": "nsZD-onllSAy",
        "outputId": "c6afa2ea-6112-410c-9e85-9c4eb6a1c55d"
      },
      "source": [
        "errors"
      ],
      "execution_count": 23,
      "outputs": [
        {
          "output_type": "execute_result",
          "data": {
            "text/plain": [
              "99.84003648900499"
            ]
          },
          "metadata": {},
          "execution_count": 23
        }
      ]
    },
    {
      "cell_type": "code",
      "metadata": {
        "colab": {
          "base_uri": "https://localhost:8080/"
        },
        "id": "svTrfV9oli1t",
        "outputId": "9b102762-dbb6-4ec7-e7d6-9f071d836716"
      },
      "source": [
        "len(test_data)"
      ],
      "execution_count": 24,
      "outputs": [
        {
          "output_type": "execute_result",
          "data": {
            "text/plain": [
              "2000"
            ]
          },
          "metadata": {},
          "execution_count": 24
        }
      ]
    },
    {
      "cell_type": "code",
      "metadata": {
        "colab": {
          "base_uri": "https://localhost:8080/"
        },
        "id": "4QoK-rwylpPY",
        "outputId": "c41bc5d9-19ea-4e0f-9dea-4a7bfb1198f4"
      },
      "source": [
        "189/2000*100"
      ],
      "execution_count": 25,
      "outputs": [
        {
          "output_type": "execute_result",
          "data": {
            "text/plain": [
              "9.45"
            ]
          },
          "metadata": {},
          "execution_count": 25
        }
      ]
    },
    {
      "cell_type": "code",
      "metadata": {
        "id": "B3VPPsDiltud"
      },
      "source": [
        "model.save(\"height_weight_prediction.h5\")"
      ],
      "execution_count": 27,
      "outputs": []
    },
    {
      "cell_type": "code",
      "metadata": {
        "id": "C4RdoWgenAnL"
      },
      "source": [
        ""
      ],
      "execution_count": 26,
      "outputs": []
    }
  ]
}