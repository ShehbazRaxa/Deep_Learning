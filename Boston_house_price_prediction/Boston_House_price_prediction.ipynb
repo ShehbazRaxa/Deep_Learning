{
  "nbformat": 4,
  "nbformat_minor": 0,
  "metadata": {
    "colab": {
      "name": "Boston_House_price_prediction.ipynb",
      "provenance": [],
      "collapsed_sections": []
    },
    "kernelspec": {
      "name": "python3",
      "display_name": "Python 3"
    },
    "language_info": {
      "name": "python"
    },
    "accelerator": "GPU"
  },
  "cells": [
    {
      "cell_type": "code",
      "metadata": {
        "colab": {
          "base_uri": "https://localhost:8080/"
        },
        "id": "MmL4MwM1s4oe",
        "outputId": "7d04ef70-4f36-4942-ac7e-4e4ba53bc203"
      },
      "source": [
        "from tensorflow.keras.datasets import boston_housing\n",
        "(train_data, train_targets), (test_data, test_targets) = boston_housing.load_data()"
      ],
      "execution_count": 1,
      "outputs": [
        {
          "output_type": "stream",
          "name": "stdout",
          "text": [
            "Downloading data from https://storage.googleapis.com/tensorflow/tf-keras-datasets/boston_housing.npz\n",
            "57344/57026 [==============================] - 0s 0us/step\n",
            "65536/57026 [==================================] - 0s 0us/step\n"
          ]
        }
      ]
    },
    {
      "cell_type": "code",
      "metadata": {
        "colab": {
          "base_uri": "https://localhost:8080/"
        },
        "id": "FvqokxO9tCe7",
        "outputId": "ae9f2960-ca36-4087-aa27-371752a149ce"
      },
      "source": [
        "train_data.shape"
      ],
      "execution_count": 2,
      "outputs": [
        {
          "output_type": "execute_result",
          "data": {
            "text/plain": [
              "(404, 13)"
            ]
          },
          "metadata": {},
          "execution_count": 2
        }
      ]
    },
    {
      "cell_type": "code",
      "metadata": {
        "colab": {
          "base_uri": "https://localhost:8080/"
        },
        "id": "EDtP1UZEtnjj",
        "outputId": "a13310d8-68de-4fd7-c33a-beb15ca88f04"
      },
      "source": [
        "test_data.shape"
      ],
      "execution_count": 3,
      "outputs": [
        {
          "output_type": "execute_result",
          "data": {
            "text/plain": [
              "(102, 13)"
            ]
          },
          "metadata": {},
          "execution_count": 3
        }
      ]
    },
    {
      "cell_type": "code",
      "metadata": {
        "colab": {
          "base_uri": "https://localhost:8080/"
        },
        "id": "ueJgF7bktrY6",
        "outputId": "843a2c2b-33f9-4289-bc3d-c04ed8055225"
      },
      "source": [
        "train_data[0]"
      ],
      "execution_count": 4,
      "outputs": [
        {
          "output_type": "execute_result",
          "data": {
            "text/plain": [
              "array([  1.23247,   0.     ,   8.14   ,   0.     ,   0.538  ,   6.142  ,\n",
              "        91.7    ,   3.9769 ,   4.     , 307.     ,  21.     , 396.9    ,\n",
              "        18.72   ])"
            ]
          },
          "metadata": {},
          "execution_count": 4
        }
      ]
    },
    {
      "cell_type": "code",
      "metadata": {
        "colab": {
          "base_uri": "https://localhost:8080/"
        },
        "id": "q52qSg74t7iO",
        "outputId": "cb928263-a5e7-4fc2-b995-0c771393a60f"
      },
      "source": [
        "train_targets[0]"
      ],
      "execution_count": 5,
      "outputs": [
        {
          "output_type": "execute_result",
          "data": {
            "text/plain": [
              "15.2"
            ]
          },
          "metadata": {},
          "execution_count": 5
        }
      ]
    },
    {
      "cell_type": "code",
      "metadata": {
        "id": "X0moapeQwXlh"
      },
      "source": [
        "mean = train_data.mean(axis=0)\n",
        "train_data -= mean\n",
        "std = train_data.std(axis=0)\n",
        "train_data /= std\n",
        "test_data -= mean\n",
        "test_data /= std"
      ],
      "execution_count": 6,
      "outputs": []
    },
    {
      "cell_type": "code",
      "metadata": {
        "colab": {
          "base_uri": "https://localhost:8080/"
        },
        "id": "kvmb3ngHwbc1",
        "outputId": "8505da73-fa2f-48c1-91d1-9321c2647b4c"
      },
      "source": [
        "train_data[0]"
      ],
      "execution_count": 7,
      "outputs": [
        {
          "output_type": "execute_result",
          "data": {
            "text/plain": [
              "array([-0.27224633, -0.48361547, -0.43576161, -0.25683275, -0.1652266 ,\n",
              "       -0.1764426 ,  0.81306188,  0.1166983 , -0.62624905, -0.59517003,\n",
              "        1.14850044,  0.44807713,  0.8252202 ])"
            ]
          },
          "metadata": {},
          "execution_count": 7
        }
      ]
    },
    {
      "cell_type": "code",
      "metadata": {
        "colab": {
          "base_uri": "https://localhost:8080/"
        },
        "id": "BV4wUnEywd1B",
        "outputId": "e62236e2-db07-4f90-973f-ab16b4310f53"
      },
      "source": [
        "train_data.std(axis=0)"
      ],
      "execution_count": 8,
      "outputs": [
        {
          "output_type": "execute_result",
          "data": {
            "text/plain": [
              "array([1., 1., 1., 1., 1., 1., 1., 1., 1., 1., 1., 1., 1.])"
            ]
          },
          "metadata": {},
          "execution_count": 8
        }
      ]
    },
    {
      "cell_type": "code",
      "metadata": {
        "colab": {
          "base_uri": "https://localhost:8080/"
        },
        "id": "65N5rfJvy_v1",
        "outputId": "86e37fb7-6604-4536-c491-f52fb2471ce0"
      },
      "source": [
        "train_data.mean(axis=0)"
      ],
      "execution_count": 9,
      "outputs": [
        {
          "output_type": "execute_result",
          "data": {
            "text/plain": [
              "array([-1.01541438e-16,  1.09923072e-17,  1.80933376e-15, -7.80453809e-17,\n",
              "       -5.25047552e-15,  6.43187374e-15,  2.98441140e-16,  4.94653823e-16,\n",
              "        1.12671149e-17, -1.05526149e-16,  2.36614908e-14,  5.96710525e-15,\n",
              "        6.13920356e-16])"
            ]
          },
          "metadata": {},
          "execution_count": 9
        }
      ]
    },
    {
      "cell_type": "code",
      "metadata": {
        "id": "VX2NL4mPzDUs"
      },
      "source": [
        "from tensorflow.keras import models\n",
        "from tensorflow.keras import layers\n",
        "def build_model():\n",
        "  model = models.Sequential()\n",
        "  model.add(layers.Dense(64, activation='relu',input_shape=(train_data.shape[1],)))\n",
        "  model.add(layers.Dense(64, activation='relu'))\n",
        "  model.add(layers.Dense(1))\n",
        "  model.compile(optimizer='rmsprop', loss='mae', metrics=['mae'])\n",
        "  return model\n",
        "\n"
      ],
      "execution_count": 10,
      "outputs": []
    },
    {
      "cell_type": "code",
      "metadata": {
        "colab": {
          "base_uri": "https://localhost:8080/"
        },
        "id": "hAaugEe20Yiy",
        "outputId": "e7343169-ad7e-425e-f1e7-f0861260b310"
      },
      "source": [
        "import numpy as np\n",
        "k = 4\n",
        "num_val_samples = len(train_data) // k\n",
        "num_epochs = 100\n",
        "all_scores = []\n",
        "#num_epochs = 500\n",
        "all_mae_histories = []\n",
        "for i in range(k):\n",
        "  print('processing fold #', i)\n",
        "val_data = train_data[i * num_val_samples: (i + 1) * num_val_samples]\n",
        "val_targets = train_targets[i * num_val_samples: (i + 1) * num_val_samples]\n",
        "partial_train_data = np.concatenate(\n",
        "[train_data[:i * num_val_samples],\n",
        "train_data[(i + 1) * num_val_samples:]],\n",
        "axis=0)\n",
        "partial_train_targets = np.concatenate(\n",
        "[train_targets[:i * num_val_samples],\n",
        "train_targets[(i + 1) * num_val_samples:]],\n",
        "axis=0)\n",
        "model = build_model()\n",
        "history = model.fit(partial_train_data, partial_train_targets,\n",
        "validation_data=(val_data, val_targets),\n",
        "epochs=num_epochs, batch_size=1, verbose=0)\n",
        "mae_history = history.history['val_mae']\n",
        "all_mae_histories.append(mae_history)"
      ],
      "execution_count": 11,
      "outputs": [
        {
          "output_type": "stream",
          "name": "stdout",
          "text": [
            "processing fold # 0\n",
            "processing fold # 1\n",
            "processing fold # 2\n",
            "processing fold # 3\n"
          ]
        }
      ]
    },
    {
      "cell_type": "code",
      "metadata": {
        "id": "ezLgMBitchr1"
      },
      "source": [
        "average_mae_history = [\n",
        "np.mean([x[i] for x in all_mae_histories]) for i in range(num_epochs)]"
      ],
      "execution_count": 12,
      "outputs": []
    },
    {
      "cell_type": "code",
      "metadata": {
        "colab": {
          "base_uri": "https://localhost:8080/",
          "height": 279
        },
        "id": "RAEikn_giiE6",
        "outputId": "8b9c7ff3-337f-4a13-e9c6-400de2372afe"
      },
      "source": [
        "import matplotlib.pyplot as plt\n",
        "plt.plot(range(1, len(average_mae_history) + 1), average_mae_history)\n",
        "plt.xlabel('Epochs')\n",
        "plt.ylabel('Validation MAE')\n",
        "plt.show()"
      ],
      "execution_count": 13,
      "outputs": [
        {
          "output_type": "display_data",
          "data": {
            "image/png": "[encoded data removed]",
            "text/plain": [
              "<Figure size 432x288 with 1 Axes>"
            ]
          },
          "metadata": {
            "needs_background": "light"
          }
        }
      ]
    },
    {
      "cell_type": "code",
      "metadata": {
        "colab": {
          "base_uri": "https://localhost:8080/",
          "height": 279
        },
        "id": "n7b8qCp0inD5",
        "outputId": "e61e6479-887c-41a1-d13b-b9f027c9509f"
      },
      "source": [
        "def smooth_curve(points, factor=0.6):\n",
        "  smoothed_points = []\n",
        "  for point in points:\n",
        "    if smoothed_points:\n",
        "      previous = smoothed_points[-1]\n",
        "      smoothed_points.append(previous * factor + point * (1 - factor))\n",
        "    else:\n",
        "      smoothed_points.append(point)\n",
        "  return smoothed_points\n",
        "  \n",
        "smooth_mae_history = smooth_curve(average_mae_history[10:])\n",
        "plt.plot(range(1, len(smooth_mae_history) + 1), smooth_mae_history)\n",
        "plt.xlabel('Epochs')\n",
        "plt.ylabel('Validation MAE')\n",
        "plt.show()"
      ],
      "execution_count": 14,
      "outputs": [
        {
          "output_type": "display_data",
          "data": {
            "image/png": "[encoded data removed]",
            "text/plain": [
              "<Figure size 432x288 with 1 Axes>"
            ]
          },
          "metadata": {
            "needs_background": "light"
          }
        }
      ]
    },
    {
      "cell_type": "code",
      "metadata": {
        "colab": {
          "base_uri": "https://localhost:8080/"
        },
        "id": "4K9fJOt-lrYr",
        "outputId": "5ed62ba1-c0f8-4a6f-b248-7be9e76905e6"
      },
      "source": [
        "model = build_model()\n",
        "model.fit(train_data, train_targets,\n",
        "epochs=80, batch_size=16, verbose=1)"
      ],
      "execution_count": 15,
      "outputs": [
        {
          "output_type": "stream",
          "name": "stdout",
          "text": [
            "Epoch 1/80\n",
            "26/26 [==============================] - 1s 4ms/step - loss: 20.6165 - mae: 20.6165\n",
            "Epoch 2/80\n",
            "26/26 [==============================] - 0s 3ms/step - loss: 15.8555 - mae: 15.8555\n",
            "Epoch 3/80\n",
            "26/26 [==============================] - 0s 3ms/step - loss: 10.0749 - mae: 10.0749\n",
            "Epoch 4/80\n",
            "26/26 [==============================] - 0s 3ms/step - loss: 6.2355 - mae: 6.2355\n",
            "Epoch 5/80\n",
            "26/26 [==============================] - 0s 4ms/step - loss: 4.8713 - mae: 4.8713\n",
            "Epoch 6/80\n",
            "26/26 [==============================] - 0s 3ms/step - loss: 4.0589 - mae: 4.0589\n",
            "Epoch 7/80\n",
            "26/26 [==============================] - 0s 4ms/step - loss: 3.6584 - mae: 3.6584\n",
            "Epoch 8/80\n",
            "26/26 [==============================] - 0s 4ms/step - loss: 3.3872 - mae: 3.3872\n",
            "Epoch 9/80\n",
            "26/26 [==============================] - 0s 3ms/step - loss: 3.2498 - mae: 3.2498\n",
            "Epoch 10/80\n",
            "26/26 [==============================] - 0s 3ms/step - loss: 3.0833 - mae: 3.0833\n",
            "Epoch 11/80\n",
            "26/26 [==============================] - 0s 3ms/step - loss: 2.9744 - mae: 2.9744\n",
            "Epoch 12/80\n",
            "26/26 [==============================] - 0s 3ms/step - loss: 2.8790 - mae: 2.8790\n",
            "Epoch 13/80\n",
            "26/26 [==============================] - 0s 3ms/step - loss: 2.7736 - mae: 2.7736\n",
            "Epoch 14/80\n",
            "26/26 [==============================] - 0s 3ms/step - loss: 2.6597 - mae: 2.6597\n",
            "Epoch 15/80\n",
            "26/26 [==============================] - 0s 3ms/step - loss: 2.6116 - mae: 2.6116\n",
            "Epoch 16/80\n",
            "26/26 [==============================] - 0s 3ms/step - loss: 2.5444 - mae: 2.5444\n",
            "Epoch 17/80\n",
            "26/26 [==============================] - 0s 3ms/step - loss: 2.4465 - mae: 2.4465\n",
            "Epoch 18/80\n",
            "26/26 [==============================] - 0s 3ms/step - loss: 2.4346 - mae: 2.4346\n",
            "Epoch 19/80\n",
            "26/26 [==============================] - 0s 3ms/step - loss: 2.3717 - mae: 2.3717\n",
            "Epoch 20/80\n",
            "26/26 [==============================] - 0s 4ms/step - loss: 2.3579 - mae: 2.3579\n",
            "Epoch 21/80\n",
            "26/26 [==============================] - 0s 3ms/step - loss: 2.2808 - mae: 2.2808\n",
            "Epoch 22/80\n",
            "26/26 [==============================] - 0s 4ms/step - loss: 2.2911 - mae: 2.2911\n",
            "Epoch 23/80\n",
            "26/26 [==============================] - 0s 4ms/step - loss: 2.2622 - mae: 2.2622\n",
            "Epoch 24/80\n",
            "26/26 [==============================] - 0s 4ms/step - loss: 2.2354 - mae: 2.2354\n",
            "Epoch 25/80\n",
            "26/26 [==============================] - 0s 3ms/step - loss: 2.2232 - mae: 2.2232\n",
            "Epoch 26/80\n",
            "26/26 [==============================] - 0s 4ms/step - loss: 2.2009 - mae: 2.2009\n",
            "Epoch 27/80\n",
            "26/26 [==============================] - 0s 3ms/step - loss: 2.1704 - mae: 2.1704\n",
            "Epoch 28/80\n",
            "26/26 [==============================] - 0s 3ms/step - loss: 2.1555 - mae: 2.1555\n",
            "Epoch 29/80\n",
            "26/26 [==============================] - 0s 3ms/step - loss: 2.1501 - mae: 2.1501\n",
            "Epoch 30/80\n",
            "26/26 [==============================] - 0s 3ms/step - loss: 2.1072 - mae: 2.1072\n",
            "Epoch 31/80\n",
            "26/26 [==============================] - 0s 3ms/step - loss: 2.1022 - mae: 2.1022\n",
            "Epoch 32/80\n",
            "26/26 [==============================] - 0s 4ms/step - loss: 2.0815 - mae: 2.0815\n",
            "Epoch 33/80\n",
            "26/26 [==============================] - 0s 4ms/step - loss: 2.0895 - mae: 2.0895\n",
            "Epoch 34/80\n",
            "26/26 [==============================] - 0s 4ms/step - loss: 2.0354 - mae: 2.0354\n",
            "Epoch 35/80\n",
            "26/26 [==============================] - 0s 4ms/step - loss: 2.0483 - mae: 2.0483\n",
            "Epoch 36/80\n",
            "26/26 [==============================] - 0s 3ms/step - loss: 2.0330 - mae: 2.0330\n",
            "Epoch 37/80\n",
            "26/26 [==============================] - 0s 3ms/step - loss: 1.9976 - mae: 1.9976\n",
            "Epoch 38/80\n",
            "26/26 [==============================] - 0s 3ms/step - loss: 2.0453 - mae: 2.0453\n",
            "Epoch 39/80\n",
            "26/26 [==============================] - 0s 4ms/step - loss: 2.0001 - mae: 2.0001\n",
            "Epoch 40/80\n",
            "26/26 [==============================] - 0s 3ms/step - loss: 2.0047 - mae: 2.0047\n",
            "Epoch 41/80\n",
            "26/26 [==============================] - 0s 3ms/step - loss: 1.9770 - mae: 1.9770\n",
            "Epoch 42/80\n",
            "26/26 [==============================] - 0s 3ms/step - loss: 1.9675 - mae: 1.9675\n",
            "Epoch 43/80\n",
            "26/26 [==============================] - 0s 4ms/step - loss: 1.9407 - mae: 1.9407\n",
            "Epoch 44/80\n",
            "26/26 [==============================] - 0s 3ms/step - loss: 1.9439 - mae: 1.9439\n",
            "Epoch 45/80\n",
            "26/26 [==============================] - 0s 3ms/step - loss: 1.9207 - mae: 1.9207\n",
            "Epoch 46/80\n",
            "26/26 [==============================] - 0s 3ms/step - loss: 1.9173 - mae: 1.9173\n",
            "Epoch 47/80\n",
            "26/26 [==============================] - 0s 3ms/step - loss: 1.9031 - mae: 1.9031\n",
            "Epoch 48/80\n",
            "26/26 [==============================] - 0s 3ms/step - loss: 1.9032 - mae: 1.9032\n",
            "Epoch 49/80\n",
            "26/26 [==============================] - 0s 4ms/step - loss: 1.9191 - mae: 1.9191\n",
            "Epoch 50/80\n",
            "26/26 [==============================] - 0s 3ms/step - loss: 1.8833 - mae: 1.8833\n",
            "Epoch 51/80\n",
            "26/26 [==============================] - 0s 4ms/step - loss: 1.8766 - mae: 1.8766\n",
            "Epoch 52/80\n",
            "26/26 [==============================] - 0s 4ms/step - loss: 1.8580 - mae: 1.8580\n",
            "Epoch 53/80\n",
            "26/26 [==============================] - 0s 5ms/step - loss: 1.8720 - mae: 1.8720\n",
            "Epoch 54/80\n",
            "26/26 [==============================] - 0s 3ms/step - loss: 1.8705 - mae: 1.8705\n",
            "Epoch 55/80\n",
            "26/26 [==============================] - 0s 3ms/step - loss: 1.8537 - mae: 1.8537\n",
            "Epoch 56/80\n",
            "26/26 [==============================] - 0s 4ms/step - loss: 1.8328 - mae: 1.8328\n",
            "Epoch 57/80\n",
            "26/26 [==============================] - 0s 3ms/step - loss: 1.8458 - mae: 1.8458\n",
            "Epoch 58/80\n",
            "26/26 [==============================] - 0s 3ms/step - loss: 1.8239 - mae: 1.8239\n",
            "Epoch 59/80\n",
            "26/26 [==============================] - 0s 4ms/step - loss: 1.8024 - mae: 1.8024\n",
            "Epoch 60/80\n",
            "26/26 [==============================] - 0s 4ms/step - loss: 1.8192 - mae: 1.8192\n",
            "Epoch 61/80\n",
            "26/26 [==============================] - 0s 3ms/step - loss: 1.8246 - mae: 1.8246\n",
            "Epoch 62/80\n",
            "26/26 [==============================] - 0s 4ms/step - loss: 1.7826 - mae: 1.7826\n",
            "Epoch 63/80\n",
            "26/26 [==============================] - 0s 4ms/step - loss: 1.8001 - mae: 1.8001\n",
            "Epoch 64/80\n",
            "26/26 [==============================] - 0s 3ms/step - loss: 1.8014 - mae: 1.8014\n",
            "Epoch 65/80\n",
            "26/26 [==============================] - 0s 3ms/step - loss: 1.7763 - mae: 1.7763\n",
            "Epoch 66/80\n",
            "26/26 [==============================] - 0s 3ms/step - loss: 1.7776 - mae: 1.7776\n",
            "Epoch 67/80\n",
            "26/26 [==============================] - 0s 3ms/step - loss: 1.7580 - mae: 1.7580\n",
            "Epoch 68/80\n",
            "26/26 [==============================] - 0s 3ms/step - loss: 1.7366 - mae: 1.7366\n",
            "Epoch 69/80\n",
            "26/26 [==============================] - 0s 4ms/step - loss: 1.7535 - mae: 1.7535\n",
            "Epoch 70/80\n",
            "26/26 [==============================] - 0s 3ms/step - loss: 1.7124 - mae: 1.7124\n",
            "Epoch 71/80\n",
            "26/26 [==============================] - 0s 3ms/step - loss: 1.7080 - mae: 1.7080\n",
            "Epoch 72/80\n",
            "26/26 [==============================] - 0s 4ms/step - loss: 1.7641 - mae: 1.7641\n",
            "Epoch 73/80\n",
            "26/26 [==============================] - 0s 4ms/step - loss: 1.7008 - mae: 1.7008\n",
            "Epoch 74/80\n",
            "26/26 [==============================] - 0s 3ms/step - loss: 1.7348 - mae: 1.7348\n",
            "Epoch 75/80\n",
            "26/26 [==============================] - 0s 3ms/step - loss: 1.7150 - mae: 1.7150\n",
            "Epoch 76/80\n",
            "26/26 [==============================] - 0s 3ms/step - loss: 1.7068 - mae: 1.7068\n",
            "Epoch 77/80\n",
            "26/26 [==============================] - 0s 3ms/step - loss: 1.6783 - mae: 1.6783\n",
            "Epoch 78/80\n",
            "26/26 [==============================] - 0s 3ms/step - loss: 1.7121 - mae: 1.7121\n",
            "Epoch 79/80\n",
            "26/26 [==============================] - 0s 4ms/step - loss: 1.7030 - mae: 1.7030\n",
            "Epoch 80/80\n",
            "26/26 [==============================] - 0s 3ms/step - loss: 1.6691 - mae: 1.6691\n"
          ]
        },
        {
          "output_type": "execute_result",
          "data": {
            "text/plain": [
              "<keras.callbacks.History at 0x7f4b188670d0>"
            ]
          },
          "metadata": {},
          "execution_count": 15
        }
      ]
    },
    {
      "cell_type": "code",
      "metadata": {
        "colab": {
          "base_uri": "https://localhost:8080/"
        },
        "id": "O0JV5pRrBIV6",
        "outputId": "0454d8f7-d991-47f5-860f-08d953e2dae9"
      },
      "source": [
        "test_mse_score, test_mae_score = model.evaluate(test_data, test_targets)"
      ],
      "execution_count": 16,
      "outputs": [
        {
          "output_type": "stream",
          "name": "stdout",
          "text": [
            "4/4 [==============================] - 0s 4ms/step - loss: 2.6355 - mae: 2.6355\n"
          ]
        }
      ]
    },
    {
      "cell_type": "code",
      "metadata": {
        "id": "b4xC6KKXEvSE"
      },
      "source": [
        "model.save(\"Boston_House_Price_Prediction.h5\")"
      ],
      "execution_count": 17,
      "outputs": []
    },
    {
      "cell_type": "code",
      "metadata": {
        "id": "cH6OK_19FyGX"
      },
      "source": [
        ""
      ],
      "execution_count": 17,
      "outputs": []
    }
  ]
}