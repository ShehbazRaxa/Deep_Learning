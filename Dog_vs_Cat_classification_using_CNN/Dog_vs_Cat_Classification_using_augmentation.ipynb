{
  "nbformat": 4,
  "nbformat_minor": 0,
  "metadata": {
    "colab": {
      "name": "Dog_vs_Cat_Classification_V.1.ipynb",
      "provenance": [],
      "collapsed_sections": []
    },
    "kernelspec": {
      "name": "python3",
      "display_name": "Python 3"
    },
    "language_info": {
      "name": "python"
    },
    "accelerator": "GPU"
  },
  "cells": [
    {
      "cell_type": "code",
      "metadata": {
        "colab": {
          "base_uri": "https://localhost:8080/"
        },
        "id": "zDdkqG0BLSoN",
        "outputId": "68bc804f-0766-461c-93c3-1317baeebc02"
      },
      "source": [
        "from google.colab import drive\n",
        "drive.mount('/content/drive')"
      ],
      "execution_count": 16,
      "outputs": [
        {
          "output_type": "stream",
          "name": "stdout",
          "text": [
            "Drive already mounted at /content/drive; to attempt to forcibly remount, call drive.mount(\"/content/drive\", force_remount=True).\n"
          ]
        }
      ]
    },
    {
      "cell_type": "code",
      "metadata": {
        "id": "OdTGksqdLTfK"
      },
      "source": [
        "from tensorflow.keras import models\n",
        "from tensorflow.keras.layers import *\n",
        "model = models.Sequential()"
      ],
      "execution_count": 17,
      "outputs": []
    },
    {
      "cell_type": "code",
      "metadata": {
        "id": "PDQoC8_oLlJT"
      },
      "source": [
        "model.add(Conv2D(32, (3, 3), activation='relu',input_shape=(150, 150, 3)))\n",
        "model.add(MaxPooling2D((2, 2)))\n",
        "model.add(Conv2D(64, (3, 3), activation='relu'))\n",
        "model.add(MaxPooling2D((2, 2)))\n",
        "model.add(Conv2D(128, (3, 3), activation='relu'))\n",
        "model.add(MaxPooling2D((2, 2)))\n",
        "model.add(Conv2D(128, (3, 3), activation='relu'))\n",
        "model.add(MaxPooling2D((2, 2)))"
      ],
      "execution_count": 18,
      "outputs": []
    },
    {
      "cell_type": "code",
      "metadata": {
        "id": "L7OJqDVjLoA2"
      },
      "source": [
        "model.add(Flatten())\n",
        "model.add(Dropout(0.5))\n",
        "model.add(Dense(256, activation='relu'))\n",
        "model.add(Dense(1, activation='sigmoid'))"
      ],
      "execution_count": 19,
      "outputs": []
    },
    {
      "cell_type": "code",
      "metadata": {
        "colab": {
          "base_uri": "https://localhost:8080/"
        },
        "id": "gLeSN2m7LrQ_",
        "outputId": "5182726f-eb5a-4b06-ae4f-36c670c2f3d9"
      },
      "source": [
        "model.summary()"
      ],
      "execution_count": 20,
      "outputs": [
        {
          "output_type": "stream",
          "name": "stdout",
          "text": [
            "Model: \"sequential_1\"\n",
            "_________________________________________________________________\n",
            "Layer (type)                 Output Shape              Param #   \n",
            "=================================================================\n",
            "conv2d_4 (Conv2D)            (None, 148, 148, 32)      896       \n",
            "_________________________________________________________________\n",
            "max_pooling2d_4 (MaxPooling2 (None, 74, 74, 32)        0         \n",
            "_________________________________________________________________\n",
            "conv2d_5 (Conv2D)            (None, 72, 72, 64)        18496     \n",
            "_________________________________________________________________\n",
            "max_pooling2d_5 (MaxPooling2 (None, 36, 36, 64)        0         \n",
            "_________________________________________________________________\n",
            "conv2d_6 (Conv2D)            (None, 34, 34, 128)       73856     \n",
            "_________________________________________________________________\n",
            "max_pooling2d_6 (MaxPooling2 (None, 17, 17, 128)       0         \n",
            "_________________________________________________________________\n",
            "conv2d_7 (Conv2D)            (None, 15, 15, 128)       147584    \n",
            "_________________________________________________________________\n",
            "max_pooling2d_7 (MaxPooling2 (None, 7, 7, 128)         0         \n",
            "_________________________________________________________________\n",
            "flatten_1 (Flatten)          (None, 6272)              0         \n",
            "_________________________________________________________________\n",
            "dropout_1 (Dropout)          (None, 6272)              0         \n",
            "_________________________________________________________________\n",
            "dense_2 (Dense)              (None, 256)               1605888   \n",
            "_________________________________________________________________\n",
            "dense_3 (Dense)              (None, 1)                 257       \n",
            "=================================================================\n",
            "Total params: 1,846,977\n",
            "Trainable params: 1,846,977\n",
            "Non-trainable params: 0\n",
            "_________________________________________________________________\n"
          ]
        }
      ]
    },
    {
      "cell_type": "code",
      "metadata": {
        "id": "bM_1fCV9L0bs"
      },
      "source": [
        "from tensorflow.keras import optimizers\n",
        "opt = optimizers.RMSprop()"
      ],
      "execution_count": 21,
      "outputs": []
    },
    {
      "cell_type": "code",
      "metadata": {
        "id": "r-pQTQPfL4ei"
      },
      "source": [
        "from keras import optimizers\n",
        "model.compile(loss='binary_crossentropy',\n",
        "optimizer=opt,\n",
        "metrics=['acc'])"
      ],
      "execution_count": 22,
      "outputs": []
    },
    {
      "cell_type": "code",
      "metadata": {
        "id": "thpGtYFzL6gI"
      },
      "source": [
        "train_dir = '/content/drive/MyDrive/Colab Notebooks/Datatset v_2/Trian'\n",
        "test_dir = '/content/drive/MyDrive/Colab Notebooks/Datatset v_2/Test'\n",
        "validation_dir = '/content/drive/MyDrive/Colab Notebooks/Datatset v_2/validation'"
      ],
      "execution_count": 23,
      "outputs": []
    },
    {
      "cell_type": "code",
      "metadata": {
        "id": "pOF-cxAXMASC"
      },
      "source": [
        "from keras.preprocessing.image import ImageDataGenerator"
      ],
      "execution_count": 24,
      "outputs": []
    },
    {
      "cell_type": "code",
      "metadata": {
        "id": "xUsK7op8MCiD"
      },
      "source": [
        "train_datagen = ImageDataGenerator(rotation_range=40,\n",
        "                                   rescale=1./255,\n",
        "width_shift_range=0.2,\n",
        "height_shift_range=0.2,\n",
        "shear_range=0.2,\n",
        "zoom_range=0.2,\n",
        "horizontal_flip=True)\n",
        "test_datagen = ImageDataGenerator(rescale=1./255)\n",
        "validation_datagen = ImageDataGenerator(rescale=1./255)"
      ],
      "execution_count": 25,
      "outputs": []
    },
    {
      "cell_type": "code",
      "metadata": {
        "colab": {
          "base_uri": "https://localhost:8080/"
        },
        "id": "rEro0CeUMLn7",
        "outputId": "183b15cd-39dd-4527-e41f-bc2fc4fb57c8"
      },
      "source": [
        "train_generator = train_datagen.flow_from_directory(\n",
        "train_dir,\n",
        "target_size=(150, 150),batch_size=20,\n",
        "class_mode='binary')"
      ],
      "execution_count": 26,
      "outputs": [
        {
          "output_type": "stream",
          "name": "stdout",
          "text": [
            "Found 4000 images belonging to 2 classes.\n"
          ]
        }
      ]
    },
    {
      "cell_type": "code",
      "metadata": {
        "colab": {
          "base_uri": "https://localhost:8080/"
        },
        "id": "hCGgIFsUMO7P",
        "outputId": "ce99bfb0-8f50-4d79-a91d-e0eff7d5c86f"
      },
      "source": [
        "validation_generator = test_datagen.flow_from_directory(\n",
        "validation_dir,target_size=(150, 150),\n",
        "batch_size=20,\n",
        "class_mode='binary')"
      ],
      "execution_count": 27,
      "outputs": [
        {
          "output_type": "stream",
          "name": "stdout",
          "text": [
            "Found 1000 images belonging to 2 classes.\n"
          ]
        }
      ]
    },
    {
      "cell_type": "code",
      "metadata": {
        "colab": {
          "base_uri": "https://localhost:8080/"
        },
        "id": "GF-MM5WdMUCQ",
        "outputId": "efc6c312-a52a-4b22-e894-059d354a65b0"
      },
      "source": [
        "test_generator = test_datagen.flow_from_directory(\n",
        "test_dir,target_size=(150, 150),\n",
        "batch_size=20,\n",
        "class_mode='binary')"
      ],
      "execution_count": 28,
      "outputs": [
        {
          "output_type": "stream",
          "name": "stdout",
          "text": [
            "Found 480 images belonging to 2 classes.\n"
          ]
        }
      ]
    },
    {
      "cell_type": "code",
      "metadata": {
        "colab": {
          "base_uri": "https://localhost:8080/"
        },
        "id": "F7YxXQoCMXDt",
        "outputId": "474ca23c-2d0f-4d77-ca64-b232ef7752aa"
      },
      "source": [
        "history = model.fit_generator(\n",
        "train_generator,\n",
        "steps_per_epoch=62,\n",
        "epochs=30,\n",
        "validation_data=validation_generator,\n",
        "validation_steps=15)"
      ],
      "execution_count": 29,
      "outputs": [
        {
          "output_type": "stream",
          "name": "stderr",
          "text": [
            "/usr/local/lib/python3.7/dist-packages/keras/engine/training.py:1972: UserWarning: `Model.fit_generator` is deprecated and will be removed in a future version. Please use `Model.fit`, which supports generators.\n",
            "  warnings.warn('`Model.fit_generator` is deprecated and '\n"
          ]
        },
        {
          "output_type": "stream",
          "name": "stdout",
          "text": [
            "Epoch 1/30\n",
            "62/62 [==============================] - 48s 759ms/step - loss: 0.7866 - acc: 0.5137 - val_loss: 0.6915 - val_acc: 0.5233\n",
            "Epoch 2/30\n",
            "62/62 [==============================] - 38s 602ms/step - loss: 0.7052 - acc: 0.5202 - val_loss: 0.7785 - val_acc: 0.5000\n",
            "Epoch 3/30\n",
            "62/62 [==============================] - 29s 464ms/step - loss: 0.6984 - acc: 0.5750 - val_loss: 2.0112 - val_acc: 0.5133\n",
            "Epoch 4/30\n",
            "62/62 [==============================] - 24s 384ms/step - loss: 0.7008 - acc: 0.5661 - val_loss: 0.6789 - val_acc: 0.5800\n",
            "Epoch 5/30\n",
            "62/62 [==============================] - 20s 327ms/step - loss: 0.6756 - acc: 0.6081 - val_loss: 0.7345 - val_acc: 0.5367\n",
            "Epoch 6/30\n",
            "62/62 [==============================] - 21s 333ms/step - loss: 0.6488 - acc: 0.6371 - val_loss: 0.6613 - val_acc: 0.6667\n",
            "Epoch 7/30\n",
            "62/62 [==============================] - 18s 290ms/step - loss: 0.7057 - acc: 0.6355 - val_loss: 0.6152 - val_acc: 0.6900\n",
            "Epoch 8/30\n",
            "62/62 [==============================] - 16s 264ms/step - loss: 0.6548 - acc: 0.6258 - val_loss: 0.9133 - val_acc: 0.4867\n",
            "Epoch 9/30\n",
            "62/62 [==============================] - 17s 270ms/step - loss: 0.6327 - acc: 0.6435 - val_loss: 0.6417 - val_acc: 0.6633\n",
            "Epoch 10/30\n",
            "62/62 [==============================] - 16s 259ms/step - loss: 0.6530 - acc: 0.6258 - val_loss: 0.6253 - val_acc: 0.6667\n",
            "Epoch 11/30\n",
            "62/62 [==============================] - 15s 242ms/step - loss: 0.6404 - acc: 0.6452 - val_loss: 0.6135 - val_acc: 0.6767\n",
            "Epoch 12/30\n",
            "62/62 [==============================] - 15s 238ms/step - loss: 0.6345 - acc: 0.6718 - val_loss: 0.6221 - val_acc: 0.6567\n",
            "Epoch 13/30\n",
            "62/62 [==============================] - 15s 235ms/step - loss: 0.6389 - acc: 0.6363 - val_loss: 0.6149 - val_acc: 0.6700\n",
            "Epoch 14/30\n",
            "62/62 [==============================] - 15s 238ms/step - loss: 0.6110 - acc: 0.6669 - val_loss: 0.5532 - val_acc: 0.7267\n",
            "Epoch 15/30\n",
            "62/62 [==============================] - 15s 239ms/step - loss: 0.6258 - acc: 0.6419 - val_loss: 0.5965 - val_acc: 0.6900\n",
            "Epoch 16/30\n",
            "62/62 [==============================] - 15s 237ms/step - loss: 0.6327 - acc: 0.6508 - val_loss: 0.6492 - val_acc: 0.6333\n",
            "Epoch 17/30\n",
            "62/62 [==============================] - 14s 233ms/step - loss: 0.6248 - acc: 0.6573 - val_loss: 0.5894 - val_acc: 0.7033\n",
            "Epoch 18/30\n",
            "62/62 [==============================] - 15s 236ms/step - loss: 0.6266 - acc: 0.6669 - val_loss: 0.6009 - val_acc: 0.6600\n",
            "Epoch 19/30\n",
            "62/62 [==============================] - 15s 238ms/step - loss: 0.6058 - acc: 0.6685 - val_loss: 0.5551 - val_acc: 0.7267\n",
            "Epoch 20/30\n",
            "62/62 [==============================] - 14s 230ms/step - loss: 0.6112 - acc: 0.6758 - val_loss: 0.5754 - val_acc: 0.6900\n",
            "Epoch 21/30\n",
            "62/62 [==============================] - 14s 232ms/step - loss: 0.6033 - acc: 0.6718 - val_loss: 0.6570 - val_acc: 0.6467\n",
            "Epoch 22/30\n",
            "62/62 [==============================] - 14s 231ms/step - loss: 0.5918 - acc: 0.6911 - val_loss: 0.5739 - val_acc: 0.7033\n",
            "Epoch 23/30\n",
            "62/62 [==============================] - 14s 233ms/step - loss: 0.5941 - acc: 0.6823 - val_loss: 0.5957 - val_acc: 0.7200\n",
            "Epoch 24/30\n",
            "62/62 [==============================] - 15s 235ms/step - loss: 0.6083 - acc: 0.6653 - val_loss: 0.6146 - val_acc: 0.7133\n",
            "Epoch 25/30\n",
            "62/62 [==============================] - 15s 234ms/step - loss: 0.5813 - acc: 0.6927 - val_loss: 0.5644 - val_acc: 0.7067\n",
            "Epoch 26/30\n",
            "62/62 [==============================] - 15s 237ms/step - loss: 0.5882 - acc: 0.6935 - val_loss: 0.6093 - val_acc: 0.7100\n",
            "Epoch 27/30\n",
            "62/62 [==============================] - 14s 233ms/step - loss: 0.5868 - acc: 0.6798 - val_loss: 0.5756 - val_acc: 0.7133\n",
            "Epoch 28/30\n",
            "62/62 [==============================] - 14s 234ms/step - loss: 0.5747 - acc: 0.6887 - val_loss: 0.6034 - val_acc: 0.7200\n",
            "Epoch 29/30\n",
            "62/62 [==============================] - 15s 235ms/step - loss: 0.5864 - acc: 0.6887 - val_loss: 0.5394 - val_acc: 0.7500\n",
            "Epoch 30/30\n",
            "62/62 [==============================] - 15s 235ms/step - loss: 0.5669 - acc: 0.7161 - val_loss: 0.5412 - val_acc: 0.7200\n"
          ]
        }
      ]
    },
    {
      "cell_type": "code",
      "metadata": {
        "id": "TxxOlvt2MhOC",
        "colab": {
          "base_uri": "https://localhost:8080/"
        },
        "outputId": "e00c0369-0199-46e9-cc1a-09847f097833"
      },
      "source": [
        "model.evaluate(test_generator)"
      ],
      "execution_count": 30,
      "outputs": [
        {
          "output_type": "stream",
          "name": "stdout",
          "text": [
            "24/24 [==============================] - 2s 96ms/step - loss: 0.5358 - acc: 0.7125\n"
          ]
        },
        {
          "output_type": "execute_result",
          "data": {
            "text/plain": [
              "[0.5357714295387268, 0.7124999761581421]"
            ]
          },
          "metadata": {},
          "execution_count": 30
        }
      ]
    },
    {
      "cell_type": "code",
      "metadata": {
        "id": "iRUF1D9nQ6sF"
      },
      "source": [
        ""
      ],
      "execution_count": 30,
      "outputs": []
    }
  ]
}